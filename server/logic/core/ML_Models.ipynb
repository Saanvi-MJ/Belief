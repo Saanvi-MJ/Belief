{
  "cells": [
    {
      "cell_type": "code",
      "execution_count": 196,
      "metadata": {
        "id": "1ZNNqn1uQO7Y"
      },
      "outputs": [],
      "source": [
        "import re\n",
        "from textblob import TextBlob\n",
        "import re\n",
        "import pandas as pd\n",
        "import matplotlib.pyplot as plt\n",
        "\n",
        "import joblib"
      ]
    },
    {
      "cell_type": "markdown",
      "metadata": {},
      "source": [
        " Dataset from <https://www.kaggle.com/datasets/smid80/coronavirus-covid19-tweets-late-april>"
      ]
    },
    {
      "cell_type": "code",
      "execution_count": 181,
      "metadata": {
        "colab": {
          "base_uri": "https://localhost:8080/",
          "height": 424
        },
        "id": "VtGCoVQwQPvy",
        "outputId": "e3ff6839-f357-4502-920d-e98313476ac4"
      },
      "outputs": [
        {
          "data": {
            "text/plain": [
              "5        G20 agrees to debt relief for poorest countrie...\n",
              "7        B.C. health officials are urging people to kin...\n",
              "9        The Lovely Lisa Ann Joins The Show LIVE From N...\n",
              "10       @allisonnamias @ArriolaLR As @ethanbdm referen...\n",
              "11       Study suggests higher rates of co-infection be...\n",
              "                               ...                        \n",
              "18475    #WHO #Covid_19\\nUnprofessional, dangerous and ...\n",
              "18476    @IsabellHale1 @TheRightMelissa @POTUS SHARE: D...\n",
              "18478    Trump .@GOP are committing #CultureWarGenocide...\n",
              "18479    BREAKING NEWS: Takeaways and drive thrus will ...\n",
              "18481    #Covid_19: Latest Update‼️#TakePrecautionsPlea...\n",
              "Name: text, Length: 10000, dtype: object"
            ]
          },
          "execution_count": 181,
          "metadata": {},
          "output_type": "execute_result"
        }
      ],
      "source": [
        "data = pd.read_csv('../static/data/tweets-dataset-2020-04-16.csv').query(\"lang=='en'\")[\"text\"]\n",
        "df = data.to_frame(name=\"tweet\")\n",
        "df"
      ]
    },
    {
      "cell_type": "code",
      "execution_count": 115,
      "metadata": {
        "id": "bUeu_IUcQVRN"
      },
      "outputs": [],
      "source": [
        "\n",
        "def getCleanTweets(twt):\n",
        "  twt = re.sub('COVID-19','COVID-19',twt)\n",
        "  twt = re.sub('COVID19','COVID19',twt)\n",
        "  twt = re.sub('#[A-Za-z0-9]+', '', twt)\n",
        "  twt = re.sub('\\\\n', '', twt)\n",
        "  twt = re.sub('https?:\\/\\/\\S+', '', twt)\n",
        "  twt = re.sub('@[^\\s]+','',twt)\n",
        "  twt = re.sub('RT','',twt)\n",
        "  twt = re.sub('!','',twt)\n",
        "  \n",
        "  twt = ''.join([i if ord(i) < 128 else '' for i in twt])\n",
        "  \n",
        "  return twt\n",
        "\n",
        "\n"
      ]
    },
    {
      "cell_type": "code",
      "execution_count": 116,
      "metadata": {
        "colab": {
          "base_uri": "https://localhost:8080/",
          "height": 424
        },
        "id": "Nw6O52SiQl69",
        "outputId": "4cda9100-bdce-42c5-c97b-60217a63774e"
      },
      "outputs": [
        {
          "data": {
            "text/html": [
              "<div>\n",
              "<style scoped>\n",
              "    .dataframe tbody tr th:only-of-type {\n",
              "        vertical-align: middle;\n",
              "    }\n",
              "\n",
              "    .dataframe tbody tr th {\n",
              "        vertical-align: top;\n",
              "    }\n",
              "\n",
              "    .dataframe thead th {\n",
              "        text-align: right;\n",
              "    }\n",
              "</style>\n",
              "<table border=\"1\" class=\"dataframe\">\n",
              "  <thead>\n",
              "    <tr style=\"text-align: right;\">\n",
              "      <th></th>\n",
              "      <th>tweet</th>\n",
              "      <th>cleaned tweets</th>\n",
              "    </tr>\n",
              "  </thead>\n",
              "  <tbody>\n",
              "    <tr>\n",
              "      <th>5</th>\n",
              "      <td>G20 agrees to debt relief for poorest countrie...</td>\n",
              "      <td>G20 agrees to debt relief for poorest countrie...</td>\n",
              "    </tr>\n",
              "    <tr>\n",
              "      <th>7</th>\n",
              "      <td>B.C. health officials are urging people to kin...</td>\n",
              "      <td>B.C. health officials are urging people to kin...</td>\n",
              "    </tr>\n",
              "    <tr>\n",
              "      <th>9</th>\n",
              "      <td>The Lovely Lisa Ann Joins The Show LIVE From N...</td>\n",
              "      <td>The Lovely Lisa Ann Joins The Show LIVE From N...</td>\n",
              "    </tr>\n",
              "    <tr>\n",
              "      <th>10</th>\n",
              "      <td>@allisonnamias @ArriolaLR As @ethanbdm referen...</td>\n",
              "      <td>As  referenced, just saw this op-ed version ...</td>\n",
              "    </tr>\n",
              "    <tr>\n",
              "      <th>11</th>\n",
              "      <td>Study suggests higher rates of co-infection be...</td>\n",
              "      <td>Study suggests higher rates of co-infection be...</td>\n",
              "    </tr>\n",
              "    <tr>\n",
              "      <th>...</th>\n",
              "      <td>...</td>\n",
              "      <td>...</td>\n",
              "    </tr>\n",
              "    <tr>\n",
              "      <th>202</th>\n",
              "      <td>🖋 Support Cosette by signing “Support the USPS...</td>\n",
              "      <td>Support Cosette by signing Support the USPS a...</td>\n",
              "    </tr>\n",
              "    <tr>\n",
              "      <th>205</th>\n",
              "      <td>Why are we even debating this? \\n\\nVote-by-mai...</td>\n",
              "      <td>Why are we even debating this? Vote-by-mail  i...</td>\n",
              "    </tr>\n",
              "    <tr>\n",
              "      <th>206</th>\n",
              "      <td>Hina came to the US at the age of 10 when her ...</td>\n",
              "      <td>Hina came to the US at the age of 10 when her ...</td>\n",
              "    </tr>\n",
              "    <tr>\n",
              "      <th>207</th>\n",
              "      <td>Here’re the new ABCs for learning — with #COVI...</td>\n",
              "      <td>Herere the new ABCs for learning  with  posing...</td>\n",
              "    </tr>\n",
              "    <tr>\n",
              "      <th>208</th>\n",
              "      <td>JUST IN: Nearly 200 new #coronavirus cases amo...</td>\n",
              "      <td>JUST IN: Nearly 200 new  cases among Californi...</td>\n",
              "    </tr>\n",
              "  </tbody>\n",
              "</table>\n",
              "<p>100 rows × 2 columns</p>\n",
              "</div>"
            ],
            "text/plain": [
              "                                                 tweet  \\\n",
              "5    G20 agrees to debt relief for poorest countrie...   \n",
              "7    B.C. health officials are urging people to kin...   \n",
              "9    The Lovely Lisa Ann Joins The Show LIVE From N...   \n",
              "10   @allisonnamias @ArriolaLR As @ethanbdm referen...   \n",
              "11   Study suggests higher rates of co-infection be...   \n",
              "..                                                 ...   \n",
              "202  🖋 Support Cosette by signing “Support the USPS...   \n",
              "205  Why are we even debating this? \\n\\nVote-by-mai...   \n",
              "206  Hina came to the US at the age of 10 when her ...   \n",
              "207  Here’re the new ABCs for learning — with #COVI...   \n",
              "208  JUST IN: Nearly 200 new #coronavirus cases amo...   \n",
              "\n",
              "                                        cleaned tweets  \n",
              "5    G20 agrees to debt relief for poorest countrie...  \n",
              "7    B.C. health officials are urging people to kin...  \n",
              "9    The Lovely Lisa Ann Joins The Show LIVE From N...  \n",
              "10     As  referenced, just saw this op-ed version ...  \n",
              "11   Study suggests higher rates of co-infection be...  \n",
              "..                                                 ...  \n",
              "202   Support Cosette by signing Support the USPS a...  \n",
              "205  Why are we even debating this? Vote-by-mail  i...  \n",
              "206  Hina came to the US at the age of 10 when her ...  \n",
              "207  Herere the new ABCs for learning  with  posing...  \n",
              "208  JUST IN: Nearly 200 new  cases among Californi...  \n",
              "\n",
              "[100 rows x 2 columns]"
            ]
          },
          "execution_count": 116,
          "metadata": {},
          "output_type": "execute_result"
        }
      ],
      "source": [
        "#cleaned tweets\n",
        "\n",
        "df['cleaned tweets'] = df['tweet'].apply(getCleanTweets)\n",
        "\n",
        "df.head(100)"
      ]
    },
    {
      "cell_type": "code",
      "execution_count": 117,
      "metadata": {
        "id": "a6BgyTZ9bpxp"
      },
      "outputs": [],
      "source": [
        "\n",
        "df.to_csv('./temp/dist/tweets.csv')"
      ]
    },
    {
      "cell_type": "code",
      "execution_count": 119,
      "metadata": {
        "colab": {
          "base_uri": "https://localhost:8080/",
          "height": 589
        },
        "id": "pdQtH3Y_TZv6",
        "outputId": "71d2abfc-ee80-4b30-bc7f-0b8a6b4ffb83"
      },
      "outputs": [
        {
          "data": {
            "text/html": [
              "<div>\n",
              "<style scoped>\n",
              "    .dataframe tbody tr th:only-of-type {\n",
              "        vertical-align: middle;\n",
              "    }\n",
              "\n",
              "    .dataframe tbody tr th {\n",
              "        vertical-align: top;\n",
              "    }\n",
              "\n",
              "    .dataframe thead th {\n",
              "        text-align: right;\n",
              "    }\n",
              "</style>\n",
              "<table border=\"1\" class=\"dataframe\">\n",
              "  <thead>\n",
              "    <tr style=\"text-align: right;\">\n",
              "      <th></th>\n",
              "      <th>tweet</th>\n",
              "      <th>cleaned tweets</th>\n",
              "      <th>Subjectivity</th>\n",
              "      <th>Polarity</th>\n",
              "    </tr>\n",
              "  </thead>\n",
              "  <tbody>\n",
              "    <tr>\n",
              "      <th>5</th>\n",
              "      <td>G20 agrees to debt relief for poorest countrie...</td>\n",
              "      <td>G20 agrees to debt relief for poorest countrie...</td>\n",
              "      <td>0.000000</td>\n",
              "      <td>0.000000</td>\n",
              "    </tr>\n",
              "    <tr>\n",
              "      <th>7</th>\n",
              "      <td>B.C. health officials are urging people to kin...</td>\n",
              "      <td>B.C. health officials are urging people to kin...</td>\n",
              "      <td>0.900000</td>\n",
              "      <td>0.600000</td>\n",
              "    </tr>\n",
              "    <tr>\n",
              "      <th>9</th>\n",
              "      <td>The Lovely Lisa Ann Joins The Show LIVE From N...</td>\n",
              "      <td>The Lovely Lisa Ann Joins The Show LIVE From N...</td>\n",
              "      <td>0.625000</td>\n",
              "      <td>0.318182</td>\n",
              "    </tr>\n",
              "    <tr>\n",
              "      <th>10</th>\n",
              "      <td>@allisonnamias @ArriolaLR As @ethanbdm referen...</td>\n",
              "      <td>As  referenced, just saw this op-ed version ...</td>\n",
              "      <td>0.000000</td>\n",
              "      <td>0.000000</td>\n",
              "    </tr>\n",
              "    <tr>\n",
              "      <th>11</th>\n",
              "      <td>Study suggests higher rates of co-infection be...</td>\n",
              "      <td>Study suggests higher rates of co-infection be...</td>\n",
              "      <td>0.347222</td>\n",
              "      <td>-0.013889</td>\n",
              "    </tr>\n",
              "  </tbody>\n",
              "</table>\n",
              "</div>"
            ],
            "text/plain": [
              "                                                tweet  \\\n",
              "5   G20 agrees to debt relief for poorest countrie...   \n",
              "7   B.C. health officials are urging people to kin...   \n",
              "9   The Lovely Lisa Ann Joins The Show LIVE From N...   \n",
              "10  @allisonnamias @ArriolaLR As @ethanbdm referen...   \n",
              "11  Study suggests higher rates of co-infection be...   \n",
              "\n",
              "                                       cleaned tweets  Subjectivity  Polarity  \n",
              "5   G20 agrees to debt relief for poorest countrie...      0.000000  0.000000  \n",
              "7   B.C. health officials are urging people to kin...      0.900000  0.600000  \n",
              "9   The Lovely Lisa Ann Joins The Show LIVE From N...      0.625000  0.318182  \n",
              "10    As  referenced, just saw this op-ed version ...      0.000000  0.000000  \n",
              "11  Study suggests higher rates of co-infection be...      0.347222 -0.013889  "
            ]
          },
          "execution_count": 119,
          "metadata": {},
          "output_type": "execute_result"
        }
      ],
      "source": [
        "#Text Blob (Data Labeling)\n",
        "\n",
        "def getSubjectivity(twt):\n",
        "  return TextBlob(twt).sentiment.subjectivity\n",
        "\n",
        "def getPolarity(twt):\n",
        "  return TextBlob(twt).sentiment.polarity\n",
        "\n",
        "#creating two columns subjectivity and polarity\n",
        "\n",
        "df['Subjectivity'] = df['cleaned tweets'].apply(getSubjectivity)\n",
        "df['Polarity'] = df['cleaned tweets'].apply(getPolarity)\n",
        "\n",
        "df.head()"
      ]
    },
    {
      "cell_type": "code",
      "execution_count": 120,
      "metadata": {
        "id": "2TVfqtiWYaLy"
      },
      "outputs": [],
      "source": [
        "#creating a function for sentiment text\n",
        "\n",
        "def getSentiment(score):\n",
        "  if score < 0:\n",
        "    return 0\n",
        "\n",
        "  elif score == 0:\n",
        "    return 2\n",
        "  elif score > 0:\n",
        "    return 1\n"
      ]
    },
    {
      "cell_type": "code",
      "execution_count": 121,
      "metadata": {
        "colab": {
          "base_uri": "https://localhost:8080/",
          "height": 641
        },
        "id": "C13vwRhqYekA",
        "outputId": "b901f7fa-71fb-4e66-8fe5-c6ab9536a903"
      },
      "outputs": [
        {
          "data": {
            "text/html": [
              "<div>\n",
              "<style scoped>\n",
              "    .dataframe tbody tr th:only-of-type {\n",
              "        vertical-align: middle;\n",
              "    }\n",
              "\n",
              "    .dataframe tbody tr th {\n",
              "        vertical-align: top;\n",
              "    }\n",
              "\n",
              "    .dataframe thead th {\n",
              "        text-align: right;\n",
              "    }\n",
              "</style>\n",
              "<table border=\"1\" class=\"dataframe\">\n",
              "  <thead>\n",
              "    <tr style=\"text-align: right;\">\n",
              "      <th></th>\n",
              "      <th>tweet</th>\n",
              "      <th>cleaned tweets</th>\n",
              "      <th>Subjectivity</th>\n",
              "      <th>Polarity</th>\n",
              "      <th>Sentiment</th>\n",
              "    </tr>\n",
              "  </thead>\n",
              "  <tbody>\n",
              "    <tr>\n",
              "      <th>5</th>\n",
              "      <td>G20 agrees to debt relief for poorest countrie...</td>\n",
              "      <td>G20 agrees to debt relief for poorest countrie...</td>\n",
              "      <td>0.000000</td>\n",
              "      <td>0.000000</td>\n",
              "      <td>2</td>\n",
              "    </tr>\n",
              "    <tr>\n",
              "      <th>7</th>\n",
              "      <td>B.C. health officials are urging people to kin...</td>\n",
              "      <td>B.C. health officials are urging people to kin...</td>\n",
              "      <td>0.900000</td>\n",
              "      <td>0.600000</td>\n",
              "      <td>1</td>\n",
              "    </tr>\n",
              "    <tr>\n",
              "      <th>9</th>\n",
              "      <td>The Lovely Lisa Ann Joins The Show LIVE From N...</td>\n",
              "      <td>The Lovely Lisa Ann Joins The Show LIVE From N...</td>\n",
              "      <td>0.625000</td>\n",
              "      <td>0.318182</td>\n",
              "      <td>1</td>\n",
              "    </tr>\n",
              "    <tr>\n",
              "      <th>10</th>\n",
              "      <td>@allisonnamias @ArriolaLR As @ethanbdm referen...</td>\n",
              "      <td>As  referenced, just saw this op-ed version ...</td>\n",
              "      <td>0.000000</td>\n",
              "      <td>0.000000</td>\n",
              "      <td>2</td>\n",
              "    </tr>\n",
              "    <tr>\n",
              "      <th>11</th>\n",
              "      <td>Study suggests higher rates of co-infection be...</td>\n",
              "      <td>Study suggests higher rates of co-infection be...</td>\n",
              "      <td>0.347222</td>\n",
              "      <td>-0.013889</td>\n",
              "      <td>0</td>\n",
              "    </tr>\n",
              "  </tbody>\n",
              "</table>\n",
              "</div>"
            ],
            "text/plain": [
              "                                                tweet  \\\n",
              "5   G20 agrees to debt relief for poorest countrie...   \n",
              "7   B.C. health officials are urging people to kin...   \n",
              "9   The Lovely Lisa Ann Joins The Show LIVE From N...   \n",
              "10  @allisonnamias @ArriolaLR As @ethanbdm referen...   \n",
              "11  Study suggests higher rates of co-infection be...   \n",
              "\n",
              "                                       cleaned tweets  Subjectivity  Polarity  \\\n",
              "5   G20 agrees to debt relief for poorest countrie...      0.000000  0.000000   \n",
              "7   B.C. health officials are urging people to kin...      0.900000  0.600000   \n",
              "9   The Lovely Lisa Ann Joins The Show LIVE From N...      0.625000  0.318182   \n",
              "10    As  referenced, just saw this op-ed version ...      0.000000  0.000000   \n",
              "11  Study suggests higher rates of co-infection be...      0.347222 -0.013889   \n",
              "\n",
              "    Sentiment  \n",
              "5           2  \n",
              "7           1  \n",
              "9           1  \n",
              "10          2  \n",
              "11          0  "
            ]
          },
          "execution_count": 121,
          "metadata": {},
          "output_type": "execute_result"
        }
      ],
      "source": [
        "df['Sentiment'] = df['Polarity'].apply(getSentiment)\n",
        "\n",
        "df.head()"
      ]
    },
    {
      "cell_type": "code",
      "execution_count": 123,
      "metadata": {
        "id": "DNzkHJbtamaw"
      },
      "outputs": [],
      "source": [
        "tweets=pd.read_csv(\"./temp/dist/tweets.csv\")"
      ]
    },
    {
      "cell_type": "code",
      "execution_count": 124,
      "metadata": {
        "colab": {
          "base_uri": "https://localhost:8080/",
          "height": 389
        },
        "id": "C-9DgoSxdClF",
        "outputId": "a8414ce2-666a-4850-813f-ed259a925407"
      },
      "outputs": [
        {
          "data": {
            "text/html": [
              "<div>\n",
              "<style scoped>\n",
              "    .dataframe tbody tr th:only-of-type {\n",
              "        vertical-align: middle;\n",
              "    }\n",
              "\n",
              "    .dataframe tbody tr th {\n",
              "        vertical-align: top;\n",
              "    }\n",
              "\n",
              "    .dataframe thead th {\n",
              "        text-align: right;\n",
              "    }\n",
              "</style>\n",
              "<table border=\"1\" class=\"dataframe\">\n",
              "  <thead>\n",
              "    <tr style=\"text-align: right;\">\n",
              "      <th></th>\n",
              "      <th>Unnamed: 0</th>\n",
              "      <th>tweet</th>\n",
              "      <th>cleaned tweets</th>\n",
              "      <th>Positive</th>\n",
              "      <th>Negative</th>\n",
              "      <th>Neutral</th>\n",
              "      <th>Compound</th>\n",
              "    </tr>\n",
              "  </thead>\n",
              "  <tbody>\n",
              "    <tr>\n",
              "      <th>0</th>\n",
              "      <td>5</td>\n",
              "      <td>G20 agrees to debt relief for poorest countrie...</td>\n",
              "      <td>G20 agrees to debt relief for poorest countrie...</td>\n",
              "      <td>0.259</td>\n",
              "      <td>0.317</td>\n",
              "      <td>0.423</td>\n",
              "      <td>-0.2732</td>\n",
              "    </tr>\n",
              "    <tr>\n",
              "      <th>1</th>\n",
              "      <td>7</td>\n",
              "      <td>B.C. health officials are urging people to kin...</td>\n",
              "      <td>B.C. health officials are urging people to kin...</td>\n",
              "      <td>0.134</td>\n",
              "      <td>0.000</td>\n",
              "      <td>0.866</td>\n",
              "      <td>0.5267</td>\n",
              "    </tr>\n",
              "    <tr>\n",
              "      <th>2</th>\n",
              "      <td>9</td>\n",
              "      <td>The Lovely Lisa Ann Joins The Show LIVE From N...</td>\n",
              "      <td>The Lovely Lisa Ann Joins The Show LIVE From N...</td>\n",
              "      <td>0.187</td>\n",
              "      <td>0.000</td>\n",
              "      <td>0.813</td>\n",
              "      <td>0.6580</td>\n",
              "    </tr>\n",
              "    <tr>\n",
              "      <th>3</th>\n",
              "      <td>10</td>\n",
              "      <td>@allisonnamias @ArriolaLR As @ethanbdm referen...</td>\n",
              "      <td>As  referenced, just saw this op-ed version ...</td>\n",
              "      <td>0.000</td>\n",
              "      <td>0.000</td>\n",
              "      <td>1.000</td>\n",
              "      <td>0.0000</td>\n",
              "    </tr>\n",
              "    <tr>\n",
              "      <th>4</th>\n",
              "      <td>11</td>\n",
              "      <td>Study suggests higher rates of co-infection be...</td>\n",
              "      <td>Study suggests higher rates of co-infection be...</td>\n",
              "      <td>0.000</td>\n",
              "      <td>0.000</td>\n",
              "      <td>1.000</td>\n",
              "      <td>0.0000</td>\n",
              "    </tr>\n",
              "  </tbody>\n",
              "</table>\n",
              "</div>"
            ],
            "text/plain": [
              "   Unnamed: 0                                              tweet  \\\n",
              "0           5  G20 agrees to debt relief for poorest countrie...   \n",
              "1           7  B.C. health officials are urging people to kin...   \n",
              "2           9  The Lovely Lisa Ann Joins The Show LIVE From N...   \n",
              "3          10  @allisonnamias @ArriolaLR As @ethanbdm referen...   \n",
              "4          11  Study suggests higher rates of co-infection be...   \n",
              "\n",
              "                                      cleaned tweets  Positive  Negative  \\\n",
              "0  G20 agrees to debt relief for poorest countrie...     0.259     0.317   \n",
              "1  B.C. health officials are urging people to kin...     0.134     0.000   \n",
              "2  The Lovely Lisa Ann Joins The Show LIVE From N...     0.187     0.000   \n",
              "3    As  referenced, just saw this op-ed version ...     0.000     0.000   \n",
              "4  Study suggests higher rates of co-infection be...     0.000     0.000   \n",
              "\n",
              "   Neutral  Compound  \n",
              "0    0.423   -0.2732  \n",
              "1    0.866    0.5267  \n",
              "2    0.813    0.6580  \n",
              "3    1.000    0.0000  \n",
              "4    1.000    0.0000  "
            ]
          },
          "execution_count": 124,
          "metadata": {},
          "output_type": "execute_result"
        }
      ],
      "source": [
        "#Data_Labeling\n",
        "\n",
        "import nltk\n",
        "from nltk.sentiment.vader import SentimentIntensityAnalyzer\n",
        "nltk.download(\"vader_lexicon\")\n",
        "sentiments = SentimentIntensityAnalyzer()\n",
        "tweets[\"Positive\"] = [sentiments.polarity_scores(i)[\"pos\"] for i in tweets[\"tweet\"]]\n",
        "tweets[\"Negative\"] = [sentiments.polarity_scores(i)[\"neg\"] for i in tweets[\"tweet\"]]\n",
        "tweets[\"Neutral\"] = [sentiments.polarity_scores(i)[\"neu\"] for i in tweets[\"tweet\"]]\n",
        "tweets['Compound'] = [sentiments.polarity_scores(i)[\"compound\"] for i in tweets[\"tweet\"]]\n",
        "tweets.head()"
      ]
    },
    {
      "cell_type": "code",
      "execution_count": 125,
      "metadata": {
        "colab": {
          "base_uri": "https://localhost:8080/",
          "height": 728
        },
        "id": "SgunLnOGdQQT",
        "outputId": "610f76ff-d9ed-4349-8b9c-e49173700197"
      },
      "outputs": [
        {
          "data": {
            "text/html": [
              "<div>\n",
              "<style scoped>\n",
              "    .dataframe tbody tr th:only-of-type {\n",
              "        vertical-align: middle;\n",
              "    }\n",
              "\n",
              "    .dataframe tbody tr th {\n",
              "        vertical-align: top;\n",
              "    }\n",
              "\n",
              "    .dataframe thead th {\n",
              "        text-align: right;\n",
              "    }\n",
              "</style>\n",
              "<table border=\"1\" class=\"dataframe\">\n",
              "  <thead>\n",
              "    <tr style=\"text-align: right;\">\n",
              "      <th></th>\n",
              "      <th>Unnamed: 0</th>\n",
              "      <th>tweet</th>\n",
              "      <th>cleaned tweets</th>\n",
              "      <th>Positive</th>\n",
              "      <th>Negative</th>\n",
              "      <th>Neutral</th>\n",
              "      <th>Compound</th>\n",
              "      <th>Sentiment</th>\n",
              "    </tr>\n",
              "  </thead>\n",
              "  <tbody>\n",
              "    <tr>\n",
              "      <th>0</th>\n",
              "      <td>5</td>\n",
              "      <td>G20 agrees to debt relief for poorest countrie...</td>\n",
              "      <td>G20 agrees to debt relief for poorest countrie...</td>\n",
              "      <td>0.259</td>\n",
              "      <td>0.317</td>\n",
              "      <td>0.423</td>\n",
              "      <td>-0.2732</td>\n",
              "      <td>Negative</td>\n",
              "    </tr>\n",
              "    <tr>\n",
              "      <th>1</th>\n",
              "      <td>7</td>\n",
              "      <td>B.C. health officials are urging people to kin...</td>\n",
              "      <td>B.C. health officials are urging people to kin...</td>\n",
              "      <td>0.134</td>\n",
              "      <td>0.000</td>\n",
              "      <td>0.866</td>\n",
              "      <td>0.5267</td>\n",
              "      <td>Positive</td>\n",
              "    </tr>\n",
              "    <tr>\n",
              "      <th>2</th>\n",
              "      <td>9</td>\n",
              "      <td>The Lovely Lisa Ann Joins The Show LIVE From N...</td>\n",
              "      <td>The Lovely Lisa Ann Joins The Show LIVE From N...</td>\n",
              "      <td>0.187</td>\n",
              "      <td>0.000</td>\n",
              "      <td>0.813</td>\n",
              "      <td>0.6580</td>\n",
              "      <td>Positive</td>\n",
              "    </tr>\n",
              "    <tr>\n",
              "      <th>3</th>\n",
              "      <td>10</td>\n",
              "      <td>@allisonnamias @ArriolaLR As @ethanbdm referen...</td>\n",
              "      <td>As  referenced, just saw this op-ed version ...</td>\n",
              "      <td>0.000</td>\n",
              "      <td>0.000</td>\n",
              "      <td>1.000</td>\n",
              "      <td>0.0000</td>\n",
              "      <td>Neutral</td>\n",
              "    </tr>\n",
              "    <tr>\n",
              "      <th>4</th>\n",
              "      <td>11</td>\n",
              "      <td>Study suggests higher rates of co-infection be...</td>\n",
              "      <td>Study suggests higher rates of co-infection be...</td>\n",
              "      <td>0.000</td>\n",
              "      <td>0.000</td>\n",
              "      <td>1.000</td>\n",
              "      <td>0.0000</td>\n",
              "      <td>Neutral</td>\n",
              "    </tr>\n",
              "    <tr>\n",
              "      <th>...</th>\n",
              "      <td>...</td>\n",
              "      <td>...</td>\n",
              "      <td>...</td>\n",
              "      <td>...</td>\n",
              "      <td>...</td>\n",
              "      <td>...</td>\n",
              "      <td>...</td>\n",
              "      <td>...</td>\n",
              "    </tr>\n",
              "    <tr>\n",
              "      <th>95</th>\n",
              "      <td>202</td>\n",
              "      <td>🖋 Support Cosette by signing “Support the USPS...</td>\n",
              "      <td>Support Cosette by signing Support the USPS a...</td>\n",
              "      <td>0.103</td>\n",
              "      <td>0.000</td>\n",
              "      <td>0.897</td>\n",
              "      <td>0.4574</td>\n",
              "      <td>Positive</td>\n",
              "    </tr>\n",
              "    <tr>\n",
              "      <th>96</th>\n",
              "      <td>205</td>\n",
              "      <td>Why are we even debating this? \\n\\nVote-by-mai...</td>\n",
              "      <td>Why are we even debating this? Vote-by-mail  i...</td>\n",
              "      <td>0.202</td>\n",
              "      <td>0.000</td>\n",
              "      <td>0.798</td>\n",
              "      <td>0.7964</td>\n",
              "      <td>Positive</td>\n",
              "    </tr>\n",
              "    <tr>\n",
              "      <th>97</th>\n",
              "      <td>206</td>\n",
              "      <td>Hina came to the US at the age of 10 when her ...</td>\n",
              "      <td>Hina came to the US at the age of 10 when her ...</td>\n",
              "      <td>0.044</td>\n",
              "      <td>0.188</td>\n",
              "      <td>0.768</td>\n",
              "      <td>-0.7964</td>\n",
              "      <td>Negative</td>\n",
              "    </tr>\n",
              "    <tr>\n",
              "      <th>98</th>\n",
              "      <td>207</td>\n",
              "      <td>Here’re the new ABCs for learning — with #COVI...</td>\n",
              "      <td>Herere the new ABCs for learning  with  posing...</td>\n",
              "      <td>0.085</td>\n",
              "      <td>0.000</td>\n",
              "      <td>0.915</td>\n",
              "      <td>0.0772</td>\n",
              "      <td>Positive</td>\n",
              "    </tr>\n",
              "    <tr>\n",
              "      <th>99</th>\n",
              "      <td>208</td>\n",
              "      <td>JUST IN: Nearly 200 new #coronavirus cases amo...</td>\n",
              "      <td>JUST IN: Nearly 200 new  cases among Californi...</td>\n",
              "      <td>0.000</td>\n",
              "      <td>0.000</td>\n",
              "      <td>1.000</td>\n",
              "      <td>0.0000</td>\n",
              "      <td>Neutral</td>\n",
              "    </tr>\n",
              "  </tbody>\n",
              "</table>\n",
              "<p>100 rows × 8 columns</p>\n",
              "</div>"
            ],
            "text/plain": [
              "    Unnamed: 0                                              tweet  \\\n",
              "0            5  G20 agrees to debt relief for poorest countrie...   \n",
              "1            7  B.C. health officials are urging people to kin...   \n",
              "2            9  The Lovely Lisa Ann Joins The Show LIVE From N...   \n",
              "3           10  @allisonnamias @ArriolaLR As @ethanbdm referen...   \n",
              "4           11  Study suggests higher rates of co-infection be...   \n",
              "..         ...                                                ...   \n",
              "95         202  🖋 Support Cosette by signing “Support the USPS...   \n",
              "96         205  Why are we even debating this? \\n\\nVote-by-mai...   \n",
              "97         206  Hina came to the US at the age of 10 when her ...   \n",
              "98         207  Here’re the new ABCs for learning — with #COVI...   \n",
              "99         208  JUST IN: Nearly 200 new #coronavirus cases amo...   \n",
              "\n",
              "                                       cleaned tweets  Positive  Negative  \\\n",
              "0   G20 agrees to debt relief for poorest countrie...     0.259     0.317   \n",
              "1   B.C. health officials are urging people to kin...     0.134     0.000   \n",
              "2   The Lovely Lisa Ann Joins The Show LIVE From N...     0.187     0.000   \n",
              "3     As  referenced, just saw this op-ed version ...     0.000     0.000   \n",
              "4   Study suggests higher rates of co-infection be...     0.000     0.000   \n",
              "..                                                ...       ...       ...   \n",
              "95   Support Cosette by signing Support the USPS a...     0.103     0.000   \n",
              "96  Why are we even debating this? Vote-by-mail  i...     0.202     0.000   \n",
              "97  Hina came to the US at the age of 10 when her ...     0.044     0.188   \n",
              "98  Herere the new ABCs for learning  with  posing...     0.085     0.000   \n",
              "99  JUST IN: Nearly 200 new  cases among Californi...     0.000     0.000   \n",
              "\n",
              "    Neutral  Compound Sentiment  \n",
              "0     0.423   -0.2732  Negative  \n",
              "1     0.866    0.5267  Positive  \n",
              "2     0.813    0.6580  Positive  \n",
              "3     1.000    0.0000   Neutral  \n",
              "4     1.000    0.0000   Neutral  \n",
              "..      ...       ...       ...  \n",
              "95    0.897    0.4574  Positive  \n",
              "96    0.798    0.7964  Positive  \n",
              "97    0.768   -0.7964  Negative  \n",
              "98    0.915    0.0772  Positive  \n",
              "99    1.000    0.0000   Neutral  \n",
              "\n",
              "[100 rows x 8 columns]"
            ]
          },
          "execution_count": 125,
          "metadata": {},
          "output_type": "execute_result"
        }
      ],
      "source": [
        "score = tweets[\"Compound\"].values\n",
        "sentiment = []\n",
        "for i in score:\n",
        "    if i > 0 :\n",
        "        sentiment.append('Positive')\n",
        "    elif i < 0 :\n",
        "        sentiment.append('Negative')\n",
        "    else:\n",
        "        sentiment.append('Neutral')\n",
        "tweets[\"Sentiment\"] = sentiment\n",
        "tweets.head(100)"
      ]
    },
    {
      "cell_type": "code",
      "execution_count": 126,
      "metadata": {
        "colab": {
          "base_uri": "https://localhost:8080/"
        },
        "id": "G1z7zS00d6vP",
        "outputId": "4527d3fb-af51-4561-a83a-8243a431ba03"
      },
      "outputs": [
        {
          "name": "stdout",
          "output_type": "stream",
          "text": [
            "Sentiment\n",
            "Positive    139325\n",
            "Negative     91281\n",
            "Neutral      67607\n",
            "Name: count, dtype: int64\n"
          ]
        }
      ],
      "source": [
        "print(tweets[\"Sentiment\"].value_counts())"
      ]
    },
    {
      "cell_type": "code",
      "execution_count": 127,
      "metadata": {
        "id": "6K_05quSd-Vb"
      },
      "outputs": [],
      "source": [
        "#Output_Labeling\n",
        "tweets.to_csv(\"./temp/dist/labeled_data.csv\")\n"
      ]
    },
    {
      "cell_type": "code",
      "execution_count": 128,
      "metadata": {
        "colab": {
          "base_uri": "https://localhost:8080/"
        },
        "id": "4uVRY4Qne8aF",
        "outputId": "ee25213b-23d8-4db8-8b27-8d100aaa100a"
      },
      "outputs": [
        {
          "data": {
            "text/plain": [
              "(298213, 8)"
            ]
          },
          "execution_count": 128,
          "metadata": {},
          "output_type": "execute_result"
        }
      ],
      "source": [
        "tweets.shape"
      ]
    },
    {
      "cell_type": "code",
      "execution_count": 129,
      "metadata": {
        "colab": {
          "base_uri": "https://localhost:8080/"
        },
        "id": "mMby9ZCje_ao",
        "outputId": "3e74cc39-68c3-467e-c8d7-7505357e5b23"
      },
      "outputs": [],
      "source": [
        "#important libraries for preprocessing using NLTK\n",
        "import nltk\n",
        "from nltk import word_tokenize, FreqDist\n",
        "from nltk.corpus import stopwords\n",
        "from nltk.stem import WordNetLemmatizer\n",
        "nltk.download('wordnet')\n",
        "nltk.download('stopwords')\n",
        "nltk.download('punkt')\n",
        "from nltk.tokenize import TweetTokenizer\n",
        "\n",
        "from nltk import sent_tokenize, word_tokenize"
      ]
    },
    {
      "cell_type": "code",
      "execution_count": 130,
      "metadata": {
        "colab": {
          "base_uri": "https://localhost:8080/"
        },
        "id": "LIbG2wRefLPd",
        "outputId": "98161bf9-ae84-4bbb-b1fe-baf895e3bec0"
      },
      "outputs": [
        {
          "data": {
            "text/plain": [
              "0         [G20, agrees, to, debt, relief, for, poorest, ...\n",
              "1         [B.C., health, officials, are, urging, people,...\n",
              "2         [The, Lovely, Lisa, Ann, Joins, The, Show, LIV...\n",
              "3         [, , As, , referenced,, just, saw, this, op-ed...\n",
              "4         [Study, suggests, higher, rates, of, co-infect...\n",
              "                                ...                        \n",
              "298208    [, , can, you, blast, this, out?, , It, shows,...\n",
              "298209    [Today, , , met, with, the, Forum, to, explore...\n",
              "298210    [So, proud, of, my, team, , , for, delivering,...\n",
              "298211    [As, our, national, government, is, working, t...\n",
              "298212    [So,, I, figured, if, you, have, to, wear, a, ...\n",
              "Name: cleaned tweets, Length: 298213, dtype: object"
            ]
          },
          "execution_count": 130,
          "metadata": {},
          "output_type": "execute_result"
        }
      ],
      "source": [
        "#Splitting Data \n",
        "\n",
        "df=pd.DataFrame(tweets['cleaned tweets'])\n",
        "split_data = df[\"cleaned tweets\"].str.split(\" \")\n",
        "split_data"
      ]
    },
    {
      "cell_type": "code",
      "execution_count": 132,
      "metadata": {
        "id": "b_pODanMfjYJ"
      },
      "outputs": [],
      "source": [
        "df1=pd.DataFrame(tweets['cleaned tweets'])\n",
        "df1[\"Sentiment\"]=tweets[\"Sentiment\"]"
      ]
    },
    {
      "cell_type": "code",
      "execution_count": 133,
      "metadata": {
        "colab": {
          "base_uri": "https://localhost:8080/",
          "height": 424
        },
        "id": "4fdWvz5Cf7dB",
        "outputId": "808584cb-47e3-4e19-8d34-f43578d4b9ba"
      },
      "outputs": [
        {
          "data": {
            "text/html": [
              "<div>\n",
              "<style scoped>\n",
              "    .dataframe tbody tr th:only-of-type {\n",
              "        vertical-align: middle;\n",
              "    }\n",
              "\n",
              "    .dataframe tbody tr th {\n",
              "        vertical-align: top;\n",
              "    }\n",
              "\n",
              "    .dataframe thead th {\n",
              "        text-align: right;\n",
              "    }\n",
              "</style>\n",
              "<table border=\"1\" class=\"dataframe\">\n",
              "  <thead>\n",
              "    <tr style=\"text-align: right;\">\n",
              "      <th></th>\n",
              "      <th>cleaned tweets</th>\n",
              "      <th>Sentiment</th>\n",
              "    </tr>\n",
              "  </thead>\n",
              "  <tbody>\n",
              "    <tr>\n",
              "      <th>0</th>\n",
              "      <td>G20 agrees to debt relief for poorest countrie...</td>\n",
              "      <td>Negative</td>\n",
              "    </tr>\n",
              "    <tr>\n",
              "      <th>1</th>\n",
              "      <td>B.C. health officials are urging people to kin...</td>\n",
              "      <td>Positive</td>\n",
              "    </tr>\n",
              "    <tr>\n",
              "      <th>2</th>\n",
              "      <td>The Lovely Lisa Ann Joins The Show LIVE From N...</td>\n",
              "      <td>Positive</td>\n",
              "    </tr>\n",
              "    <tr>\n",
              "      <th>3</th>\n",
              "      <td>As  referenced, just saw this op-ed version ...</td>\n",
              "      <td>Neutral</td>\n",
              "    </tr>\n",
              "    <tr>\n",
              "      <th>4</th>\n",
              "      <td>Study suggests higher rates of co-infection be...</td>\n",
              "      <td>Neutral</td>\n",
              "    </tr>\n",
              "    <tr>\n",
              "      <th>...</th>\n",
              "      <td>...</td>\n",
              "      <td>...</td>\n",
              "    </tr>\n",
              "    <tr>\n",
              "      <th>10995</th>\n",
              "      <td>They were trying not to panic the country. S...</td>\n",
              "      <td>Positive</td>\n",
              "    </tr>\n",
              "    <tr>\n",
              "      <th>10996</th>\n",
              "      <td>U.S.  deaths increase by record amount for sec...</td>\n",
              "      <td>Positive</td>\n",
              "    </tr>\n",
              "    <tr>\n",
              "      <th>10997</th>\n",
              "      <td>Why tf would I want to  ? We have a lower perc...</td>\n",
              "      <td>Negative</td>\n",
              "    </tr>\n",
              "    <tr>\n",
              "      <th>10998</th>\n",
              "      <td>At this point my dad and grandparents are goin...</td>\n",
              "      <td>Neutral</td>\n",
              "    </tr>\n",
              "    <tr>\n",
              "      <th>10999</th>\n",
              "      <td>Four weeks of  and I finally made a dinner dat...</td>\n",
              "      <td>Neutral</td>\n",
              "    </tr>\n",
              "  </tbody>\n",
              "</table>\n",
              "<p>11000 rows × 2 columns</p>\n",
              "</div>"
            ],
            "text/plain": [
              "                                          cleaned tweets Sentiment\n",
              "0      G20 agrees to debt relief for poorest countrie...  Negative\n",
              "1      B.C. health officials are urging people to kin...  Positive\n",
              "2      The Lovely Lisa Ann Joins The Show LIVE From N...  Positive\n",
              "3        As  referenced, just saw this op-ed version ...   Neutral\n",
              "4      Study suggests higher rates of co-infection be...   Neutral\n",
              "...                                                  ...       ...\n",
              "10995    They were trying not to panic the country. S...  Positive\n",
              "10996  U.S.  deaths increase by record amount for sec...  Positive\n",
              "10997  Why tf would I want to  ? We have a lower perc...  Negative\n",
              "10998  At this point my dad and grandparents are goin...   Neutral\n",
              "10999  Four weeks of  and I finally made a dinner dat...   Neutral\n",
              "\n",
              "[11000 rows x 2 columns]"
            ]
          },
          "execution_count": 133,
          "metadata": {},
          "output_type": "execute_result"
        }
      ],
      "source": [
        "df1['cleaned tweets'].dropna(inplace=True)\n",
        "df1['cleaned tweets'] = df1['cleaned tweets'].astype(str)\n",
        "df1.head(11000)"
      ]
    },
    {
      "cell_type": "code",
      "execution_count": 254,
      "metadata": {
        "colab": {
          "base_uri": "https://localhost:8080/",
          "height": 424
        },
        "id": "1mF9nsnuf-7f",
        "outputId": "088d415c-3947-4b15-bcf5-c13792941e2c"
      },
      "outputs": [
        {
          "data": {
            "text/plain": [
              "['Hello', 'Worlding']"
            ]
          },
          "execution_count": 254,
          "metadata": {},
          "output_type": "execute_result"
        }
      ],
      "source": [
        "#Tokenization\n",
        "\n",
        "def tokenize(column):\n",
        "    tokens = nltk.word_tokenize(column)\n",
        "    return [w for w in tokens if w.isalpha()] \n",
        "\n",
        "df1['tokenization'] = df1.apply(lambda x: tokenize(x['cleaned tweets']), axis=1)\n",
        "\n"
      ]
    },
    {
      "cell_type": "code",
      "execution_count": 135,
      "metadata": {
        "id": "WYDlAQD5giqP"
      },
      "outputs": [],
      "source": [
        "#Stemming\n",
        "\n",
        "from nltk.stem.snowball import SnowballStemmer \n",
        "stemmer = SnowballStemmer(\"english\")\n",
        "df1['stemming'] = df1['tokenization'].apply(lambda x: [stemmer.stem(y) for y in x])"
      ]
    },
    {
      "cell_type": "code",
      "execution_count": 136,
      "metadata": {
        "colab": {
          "base_uri": "https://localhost:8080/",
          "height": 641
        },
        "id": "-HSj31aNg-xg",
        "outputId": "7d7eb085-d608-4ab8-98a6-09ab67381e8c"
      },
      "outputs": [
        {
          "data": {
            "text/html": [
              "<div>\n",
              "<style scoped>\n",
              "    .dataframe tbody tr th:only-of-type {\n",
              "        vertical-align: middle;\n",
              "    }\n",
              "\n",
              "    .dataframe tbody tr th {\n",
              "        vertical-align: top;\n",
              "    }\n",
              "\n",
              "    .dataframe thead th {\n",
              "        text-align: right;\n",
              "    }\n",
              "</style>\n",
              "<table border=\"1\" class=\"dataframe\">\n",
              "  <thead>\n",
              "    <tr style=\"text-align: right;\">\n",
              "      <th></th>\n",
              "      <th>cleaned tweets</th>\n",
              "      <th>Sentiment</th>\n",
              "      <th>tokenization</th>\n",
              "      <th>stemming</th>\n",
              "    </tr>\n",
              "  </thead>\n",
              "  <tbody>\n",
              "    <tr>\n",
              "      <th>0</th>\n",
              "      <td>G20 agrees to debt relief for poorest countrie...</td>\n",
              "      <td>Negative</td>\n",
              "      <td>[agrees, to, debt, relief, for, poorest, count...</td>\n",
              "      <td>[agre, to, debt, relief, for, poorest, countri...</td>\n",
              "    </tr>\n",
              "    <tr>\n",
              "      <th>1</th>\n",
              "      <td>B.C. health officials are urging people to kin...</td>\n",
              "      <td>Positive</td>\n",
              "      <td>[health, officials, are, urging, people, to, k...</td>\n",
              "      <td>[health, offici, are, urg, peopl, to, kind, an...</td>\n",
              "    </tr>\n",
              "    <tr>\n",
              "      <th>2</th>\n",
              "      <td>The Lovely Lisa Ann Joins The Show LIVE From N...</td>\n",
              "      <td>Positive</td>\n",
              "      <td>[The, Lovely, Lisa, Ann, Joins, The, Show, LIV...</td>\n",
              "      <td>[the, love, lisa, ann, join, the, show, live, ...</td>\n",
              "    </tr>\n",
              "    <tr>\n",
              "      <th>3</th>\n",
              "      <td>As  referenced, just saw this op-ed version ...</td>\n",
              "      <td>Neutral</td>\n",
              "      <td>[As, referenced, just, saw, this, version, on,...</td>\n",
              "      <td>[as, referenc, just, saw, this, version, on, e...</td>\n",
              "    </tr>\n",
              "    <tr>\n",
              "      <th>4</th>\n",
              "      <td>Study suggests higher rates of co-infection be...</td>\n",
              "      <td>Neutral</td>\n",
              "      <td>[Study, suggests, higher, rates, of, between, ...</td>\n",
              "      <td>[studi, suggest, higher, rate, of, between, an...</td>\n",
              "    </tr>\n",
              "    <tr>\n",
              "      <th>...</th>\n",
              "      <td>...</td>\n",
              "      <td>...</td>\n",
              "      <td>...</td>\n",
              "      <td>...</td>\n",
              "    </tr>\n",
              "    <tr>\n",
              "      <th>298208</th>\n",
              "      <td>can you blast this out?  It shows 2 things:1...</td>\n",
              "      <td>Neutral</td>\n",
              "      <td>[can, you, blast, this, out, It, shows, manage...</td>\n",
              "      <td>[can, you, blast, this, out, it, show, manag, ...</td>\n",
              "    </tr>\n",
              "    <tr>\n",
              "      <th>298209</th>\n",
              "      <td>Today   met with the Forum to explore how the ...</td>\n",
              "      <td>Positive</td>\n",
              "      <td>[Today, met, with, the, Forum, to, explore, ho...</td>\n",
              "      <td>[today, met, with, the, forum, to, explor, how...</td>\n",
              "    </tr>\n",
              "    <tr>\n",
              "      <th>298210</th>\n",
              "      <td>So proud of my team   for delivering a town ha...</td>\n",
              "      <td>Positive</td>\n",
              "      <td>[So, proud, of, my, team, for, delivering, a, ...</td>\n",
              "      <td>[so, proud, of, my, team, for, deliv, a, town,...</td>\n",
              "    </tr>\n",
              "    <tr>\n",
              "      <th>298211</th>\n",
              "      <td>As our national government is working to respo...</td>\n",
              "      <td>Negative</td>\n",
              "      <td>[As, our, national, government, is, working, t...</td>\n",
              "      <td>[as, our, nation, govern, is, work, to, respon...</td>\n",
              "    </tr>\n",
              "    <tr>\n",
              "      <th>298212</th>\n",
              "      <td>So, I figured if you have to wear a mask, it m...</td>\n",
              "      <td>Positive</td>\n",
              "      <td>[So, I, figured, if, you, have, to, wear, a, m...</td>\n",
              "      <td>[so, i, figur, if, you, have, to, wear, a, mas...</td>\n",
              "    </tr>\n",
              "  </tbody>\n",
              "</table>\n",
              "<p>298213 rows × 4 columns</p>\n",
              "</div>"
            ],
            "text/plain": [
              "                                           cleaned tweets Sentiment  \\\n",
              "0       G20 agrees to debt relief for poorest countrie...  Negative   \n",
              "1       B.C. health officials are urging people to kin...  Positive   \n",
              "2       The Lovely Lisa Ann Joins The Show LIVE From N...  Positive   \n",
              "3         As  referenced, just saw this op-ed version ...   Neutral   \n",
              "4       Study suggests higher rates of co-infection be...   Neutral   \n",
              "...                                                   ...       ...   \n",
              "298208    can you blast this out?  It shows 2 things:1...   Neutral   \n",
              "298209  Today   met with the Forum to explore how the ...  Positive   \n",
              "298210  So proud of my team   for delivering a town ha...  Positive   \n",
              "298211  As our national government is working to respo...  Negative   \n",
              "298212  So, I figured if you have to wear a mask, it m...  Positive   \n",
              "\n",
              "                                             tokenization  \\\n",
              "0       [agrees, to, debt, relief, for, poorest, count...   \n",
              "1       [health, officials, are, urging, people, to, k...   \n",
              "2       [The, Lovely, Lisa, Ann, Joins, The, Show, LIV...   \n",
              "3       [As, referenced, just, saw, this, version, on,...   \n",
              "4       [Study, suggests, higher, rates, of, between, ...   \n",
              "...                                                   ...   \n",
              "298208  [can, you, blast, this, out, It, shows, manage...   \n",
              "298209  [Today, met, with, the, Forum, to, explore, ho...   \n",
              "298210  [So, proud, of, my, team, for, delivering, a, ...   \n",
              "298211  [As, our, national, government, is, working, t...   \n",
              "298212  [So, I, figured, if, you, have, to, wear, a, m...   \n",
              "\n",
              "                                                 stemming  \n",
              "0       [agre, to, debt, relief, for, poorest, countri...  \n",
              "1       [health, offici, are, urg, peopl, to, kind, an...  \n",
              "2       [the, love, lisa, ann, join, the, show, live, ...  \n",
              "3       [as, referenc, just, saw, this, version, on, e...  \n",
              "4       [studi, suggest, higher, rate, of, between, an...  \n",
              "...                                                   ...  \n",
              "298208  [can, you, blast, this, out, it, show, manag, ...  \n",
              "298209  [today, met, with, the, forum, to, explor, how...  \n",
              "298210  [so, proud, of, my, team, for, deliv, a, town,...  \n",
              "298211  [as, our, nation, govern, is, work, to, respon...  \n",
              "298212  [so, i, figur, if, you, have, to, wear, a, mas...  \n",
              "\n",
              "[298213 rows x 4 columns]"
            ]
          },
          "execution_count": 136,
          "metadata": {},
          "output_type": "execute_result"
        }
      ],
      "source": [
        "df1"
      ]
    },
    {
      "cell_type": "code",
      "execution_count": 137,
      "metadata": {
        "colab": {
          "base_uri": "https://localhost:8080/"
        },
        "id": "KHQ8Lg9vU0J0",
        "outputId": "f0dae466-e80c-4725-b4d6-22cbba0a3f27"
      },
      "outputs": [],
      "source": [
        "#Lemmatization\n",
        "\n",
        "import nltk\n",
        "nltk.download('omw-1.4')\n",
        "w_tokenizer = nltk.tokenize.WhitespaceTokenizer()\n",
        "lemmatizer = nltk.stem.WordNetLemmatizer()\n",
        "def lemmatize_text(text):\n",
        "    return [lemmatizer.lemmatize(w) for w in w_tokenizer.tokenize(text)]\n",
        "df1['text_lemmatized'] = df1[\"cleaned tweets\"].apply(lemmatize_text)"
      ]
    },
    {
      "cell_type": "code",
      "execution_count": 138,
      "metadata": {
        "colab": {
          "base_uri": "https://localhost:8080/",
          "height": 354
        },
        "id": "DzYokctUAzPa",
        "outputId": "520fba27-0fa6-4444-c942-f64d6518b778"
      },
      "outputs": [
        {
          "data": {
            "text/html": [
              "<div>\n",
              "<style scoped>\n",
              "    .dataframe tbody tr th:only-of-type {\n",
              "        vertical-align: middle;\n",
              "    }\n",
              "\n",
              "    .dataframe tbody tr th {\n",
              "        vertical-align: top;\n",
              "    }\n",
              "\n",
              "    .dataframe thead th {\n",
              "        text-align: right;\n",
              "    }\n",
              "</style>\n",
              "<table border=\"1\" class=\"dataframe\">\n",
              "  <thead>\n",
              "    <tr style=\"text-align: right;\">\n",
              "      <th></th>\n",
              "      <th>cleaned tweets</th>\n",
              "      <th>Sentiment</th>\n",
              "      <th>tokenization</th>\n",
              "      <th>stemming</th>\n",
              "      <th>text_lemmatized</th>\n",
              "    </tr>\n",
              "  </thead>\n",
              "  <tbody>\n",
              "    <tr>\n",
              "      <th>0</th>\n",
              "      <td>G20 agrees to debt relief for poorest countrie...</td>\n",
              "      <td>Negative</td>\n",
              "      <td>[agrees, to, debt, relief, for, poorest, count...</td>\n",
              "      <td>[agre, to, debt, relief, for, poorest, countri...</td>\n",
              "      <td>[G20, agrees, to, debt, relief, for, poorest, ...</td>\n",
              "    </tr>\n",
              "    <tr>\n",
              "      <th>1</th>\n",
              "      <td>B.C. health officials are urging people to kin...</td>\n",
              "      <td>Positive</td>\n",
              "      <td>[health, officials, are, urging, people, to, k...</td>\n",
              "      <td>[health, offici, are, urg, peopl, to, kind, an...</td>\n",
              "      <td>[B.C., health, official, are, urging, people, ...</td>\n",
              "    </tr>\n",
              "    <tr>\n",
              "      <th>2</th>\n",
              "      <td>The Lovely Lisa Ann Joins The Show LIVE From N...</td>\n",
              "      <td>Positive</td>\n",
              "      <td>[The, Lovely, Lisa, Ann, Joins, The, Show, LIV...</td>\n",
              "      <td>[the, love, lisa, ann, join, the, show, live, ...</td>\n",
              "      <td>[The, Lovely, Lisa, Ann, Joins, The, Show, LIV...</td>\n",
              "    </tr>\n",
              "    <tr>\n",
              "      <th>3</th>\n",
              "      <td>As  referenced, just saw this op-ed version ...</td>\n",
              "      <td>Neutral</td>\n",
              "      <td>[As, referenced, just, saw, this, version, on,...</td>\n",
              "      <td>[as, referenc, just, saw, this, version, on, e...</td>\n",
              "      <td>[As, referenced,, just, saw, this, op-ed, vers...</td>\n",
              "    </tr>\n",
              "    <tr>\n",
              "      <th>4</th>\n",
              "      <td>Study suggests higher rates of co-infection be...</td>\n",
              "      <td>Neutral</td>\n",
              "      <td>[Study, suggests, higher, rates, of, between, ...</td>\n",
              "      <td>[studi, suggest, higher, rate, of, between, an...</td>\n",
              "      <td>[Study, suggests, higher, rate, of, co-infecti...</td>\n",
              "    </tr>\n",
              "  </tbody>\n",
              "</table>\n",
              "</div>"
            ],
            "text/plain": [
              "                                      cleaned tweets Sentiment  \\\n",
              "0  G20 agrees to debt relief for poorest countrie...  Negative   \n",
              "1  B.C. health officials are urging people to kin...  Positive   \n",
              "2  The Lovely Lisa Ann Joins The Show LIVE From N...  Positive   \n",
              "3    As  referenced, just saw this op-ed version ...   Neutral   \n",
              "4  Study suggests higher rates of co-infection be...   Neutral   \n",
              "\n",
              "                                        tokenization  \\\n",
              "0  [agrees, to, debt, relief, for, poorest, count...   \n",
              "1  [health, officials, are, urging, people, to, k...   \n",
              "2  [The, Lovely, Lisa, Ann, Joins, The, Show, LIV...   \n",
              "3  [As, referenced, just, saw, this, version, on,...   \n",
              "4  [Study, suggests, higher, rates, of, between, ...   \n",
              "\n",
              "                                            stemming  \\\n",
              "0  [agre, to, debt, relief, for, poorest, countri...   \n",
              "1  [health, offici, are, urg, peopl, to, kind, an...   \n",
              "2  [the, love, lisa, ann, join, the, show, live, ...   \n",
              "3  [as, referenc, just, saw, this, version, on, e...   \n",
              "4  [studi, suggest, higher, rate, of, between, an...   \n",
              "\n",
              "                                     text_lemmatized  \n",
              "0  [G20, agrees, to, debt, relief, for, poorest, ...  \n",
              "1  [B.C., health, official, are, urging, people, ...  \n",
              "2  [The, Lovely, Lisa, Ann, Joins, The, Show, LIV...  \n",
              "3  [As, referenced,, just, saw, this, op-ed, vers...  \n",
              "4  [Study, suggests, higher, rate, of, co-infecti...  "
            ]
          },
          "execution_count": 138,
          "metadata": {},
          "output_type": "execute_result"
        }
      ],
      "source": [
        "df1.head()"
      ]
    },
    {
      "cell_type": "code",
      "execution_count": 259,
      "metadata": {
        "id": "Ey3u3F_CkDlp"
      },
      "outputs": [
        {
          "data": {
            "text/plain": [
              "['CountVectorizer.joblib']"
            ]
          },
          "execution_count": 259,
          "metadata": {},
          "output_type": "execute_result"
        }
      ],
      "source": [
        "#CountVectorizer\n",
        "from sklearn.feature_extraction.text import CountVectorizer\n",
        "count_vectorize = CountVectorizer() \n",
        "vectorized = count_vectorize.fit_transform(df1[\"cleaned tweets\"])\n",
        "# joblib.dump(count_vectorize, 'CountVectorizer.joblib')"
      ]
    },
    {
      "cell_type": "code",
      "execution_count": 143,
      "metadata": {
        "colab": {
          "base_uri": "https://localhost:8080/"
        },
        "id": "d10yClzlEAZN",
        "outputId": "4f855adc-7cc0-4cba-8b34-189d2368cb35"
      },
      "outputs": [
        {
          "name": "stdout",
          "output_type": "stream",
          "text": [
            "  (0, 52138)\t1\n",
            "  (0, 15349)\t1\n",
            "  (0, 116088)\t1\n",
            "  (0, 38561)\t1\n",
            "  (0, 97903)\t1\n",
            "  (0, 50684)\t1\n",
            "  (0, 91836)\t1\n",
            "  (0, 35220)\t1\n",
            "  (0, 16955)\t1\n",
            "  (0, 87779)\t1\n",
            "['00' '000' '0000' ... 'zznhs' 'zzzzz' 'zzzzzzzzzz']\n",
            "74try 0\n"
          ]
        }
      ],
      "source": [
        "print(vectorized[0,:])\n",
        "\n",
        "print(count_vectorize.get_feature_names_out())\n",
        "print(count_vectorize.get_feature_names_out()[10000], vectorized[0,10000])"
      ]
    },
    {
      "cell_type": "code",
      "execution_count": 261,
      "metadata": {
        "id": "xd9hP8tEEIuX"
      },
      "outputs": [
        {
          "data": {
            "text/html": [
              "<div>\n",
              "<style scoped>\n",
              "    .dataframe tbody tr th:only-of-type {\n",
              "        vertical-align: middle;\n",
              "    }\n",
              "\n",
              "    .dataframe tbody tr th {\n",
              "        vertical-align: top;\n",
              "    }\n",
              "\n",
              "    .dataframe thead th {\n",
              "        text-align: right;\n",
              "    }\n",
              "</style>\n",
              "<table border=\"1\" class=\"dataframe\">\n",
              "  <thead>\n",
              "    <tr style=\"text-align: right;\">\n",
              "      <th></th>\n",
              "      <th>cleaned tweets</th>\n",
              "      <th>Sentiment</th>\n",
              "      <th>tokenization</th>\n",
              "      <th>stemming</th>\n",
              "      <th>text_lemmatized</th>\n",
              "    </tr>\n",
              "  </thead>\n",
              "  <tbody>\n",
              "    <tr>\n",
              "      <th>98848</th>\n",
              "      <td>Remote ID checks leave retail finance sector o...</td>\n",
              "      <td>Negative</td>\n",
              "      <td>[Remote, ID, checks, leave, retail, finance, s...</td>\n",
              "      <td>[remot, id, check, leav, retail, financ, secto...</td>\n",
              "      <td>[Remote, ID, check, leave, retail, finance, se...</td>\n",
              "    </tr>\n",
              "    <tr>\n",
              "      <th>63118</th>\n",
              "      <td>Epic Race Call of the ' Stakes'</td>\n",
              "      <td>Neutral</td>\n",
              "      <td>[Epic, Race, Call, of, the, Stakes]</td>\n",
              "      <td>[epic, race, call, of, the, stake]</td>\n",
              "      <td>[Epic, Race, Call, of, the, ', Stakes']</td>\n",
              "    </tr>\n",
              "    <tr>\n",
              "      <th>226008</th>\n",
              "      <td>A Zoo in Germany May Have to Start Feeding Ani...</td>\n",
              "      <td>Neutral</td>\n",
              "      <td>[A, Zoo, in, Germany, May, Have, to, Start, Fe...</td>\n",
              "      <td>[a, zoo, in, germani, may, have, to, start, fe...</td>\n",
              "      <td>[A, Zoo, in, Germany, May, Have, to, Start, Fe...</td>\n",
              "    </tr>\n",
              "    <tr>\n",
              "      <th>111163</th>\n",
              "      <td>rules: What  need to do -  advice from  (via ...</td>\n",
              "      <td>Neutral</td>\n",
              "      <td>[rules, What, need, to, do, advice, from, via,...</td>\n",
              "      <td>[rule, what, need, to, do, advic, from, via, c...</td>\n",
              "      <td>[rules:, What, need, to, do, -, advice, from, ...</td>\n",
              "    </tr>\n",
              "    <tr>\n",
              "      <th>92520</th>\n",
              "      <td>Request you to kindly send in your detail h...</td>\n",
              "      <td>Positive</td>\n",
              "      <td>[Request, you, to, kindly, send, in, your, det...</td>\n",
              "      <td>[request, you, to, kind, send, in, your, detai...</td>\n",
              "      <td>[Request, you, to, kindly, send, in, your, det...</td>\n",
              "    </tr>\n",
              "    <tr>\n",
              "      <th>...</th>\n",
              "      <td>...</td>\n",
              "      <td>...</td>\n",
              "      <td>...</td>\n",
              "      <td>...</td>\n",
              "      <td>...</td>\n",
              "    </tr>\n",
              "    <tr>\n",
              "      <th>32112</th>\n",
              "      <td>Pnk donates homemade soups to those in need a...</td>\n",
              "      <td>Neutral</td>\n",
              "      <td>[Pnk, donates, homemade, soups, to, those, in,...</td>\n",
              "      <td>[pnk, donat, homemad, soup, to, those, in, nee...</td>\n",
              "      <td>[Pnk, donates, homemade, soup, to, those, in, ...</td>\n",
              "    </tr>\n",
              "    <tr>\n",
              "      <th>200649</th>\n",
              "      <td>They've ben spraying us for years</td>\n",
              "      <td>Neutral</td>\n",
              "      <td>[They, ben, spraying, us, for, years]</td>\n",
              "      <td>[they, ben, spray, us, for, year]</td>\n",
              "      <td>[They've, ben, spraying, u, for, year]</td>\n",
              "    </tr>\n",
              "    <tr>\n",
              "      <th>153292</th>\n",
              "      <td>Dude the USA is going to hit 1 million cases v...</td>\n",
              "      <td>Negative</td>\n",
              "      <td>[Dude, the, USA, is, going, to, hit, million, ...</td>\n",
              "      <td>[dude, the, usa, is, go, to, hit, million, cas...</td>\n",
              "      <td>[Dude, the, USA, is, going, to, hit, 1, millio...</td>\n",
              "    </tr>\n",
              "    <tr>\n",
              "      <th>231837</th>\n",
              "      <td>Banx (Financial Times)</td>\n",
              "      <td>Neutral</td>\n",
              "      <td>[Banx, Financial, Times]</td>\n",
              "      <td>[banx, financi, time]</td>\n",
              "      <td>[Banx, (Financial, Times)]</td>\n",
              "    </tr>\n",
              "    <tr>\n",
              "      <th>18431</th>\n",
              "      <td>95. News: SUCH BS JUST LIKE NEW YORK Health de...</td>\n",
              "      <td>Positive</td>\n",
              "      <td>[News, SUCH, BS, JUST, LIKE, NEW, YORK, Health...</td>\n",
              "      <td>[news, such, bs, just, like, new, york, health...</td>\n",
              "      <td>[95., News:, SUCH, BS, JUST, LIKE, NEW, YORK, ...</td>\n",
              "    </tr>\n",
              "  </tbody>\n",
              "</table>\n",
              "<p>238570 rows × 5 columns</p>\n",
              "</div>"
            ],
            "text/plain": [
              "                                           cleaned tweets Sentiment  \\\n",
              "98848   Remote ID checks leave retail finance sector o...  Negative   \n",
              "63118                    Epic Race Call of the ' Stakes'    Neutral   \n",
              "226008  A Zoo in Germany May Have to Start Feeding Ani...   Neutral   \n",
              "111163   rules: What  need to do -  advice from  (via ...   Neutral   \n",
              "92520      Request you to kindly send in your detail h...  Positive   \n",
              "...                                                   ...       ...   \n",
              "32112    Pnk donates homemade soups to those in need a...   Neutral   \n",
              "200649               They've ben spraying us for years      Neutral   \n",
              "153292  Dude the USA is going to hit 1 million cases v...  Negative   \n",
              "231837                            Banx (Financial Times)    Neutral   \n",
              "18431   95. News: SUCH BS JUST LIKE NEW YORK Health de...  Positive   \n",
              "\n",
              "                                             tokenization  \\\n",
              "98848   [Remote, ID, checks, leave, retail, finance, s...   \n",
              "63118                 [Epic, Race, Call, of, the, Stakes]   \n",
              "226008  [A, Zoo, in, Germany, May, Have, to, Start, Fe...   \n",
              "111163  [rules, What, need, to, do, advice, from, via,...   \n",
              "92520   [Request, you, to, kindly, send, in, your, det...   \n",
              "...                                                   ...   \n",
              "32112   [Pnk, donates, homemade, soups, to, those, in,...   \n",
              "200649              [They, ben, spraying, us, for, years]   \n",
              "153292  [Dude, the, USA, is, going, to, hit, million, ...   \n",
              "231837                           [Banx, Financial, Times]   \n",
              "18431   [News, SUCH, BS, JUST, LIKE, NEW, YORK, Health...   \n",
              "\n",
              "                                                 stemming  \\\n",
              "98848   [remot, id, check, leav, retail, financ, secto...   \n",
              "63118                  [epic, race, call, of, the, stake]   \n",
              "226008  [a, zoo, in, germani, may, have, to, start, fe...   \n",
              "111163  [rule, what, need, to, do, advic, from, via, c...   \n",
              "92520   [request, you, to, kind, send, in, your, detai...   \n",
              "...                                                   ...   \n",
              "32112   [pnk, donat, homemad, soup, to, those, in, nee...   \n",
              "200649                  [they, ben, spray, us, for, year]   \n",
              "153292  [dude, the, usa, is, go, to, hit, million, cas...   \n",
              "231837                              [banx, financi, time]   \n",
              "18431   [news, such, bs, just, like, new, york, health...   \n",
              "\n",
              "                                          text_lemmatized  \n",
              "98848   [Remote, ID, check, leave, retail, finance, se...  \n",
              "63118             [Epic, Race, Call, of, the, ', Stakes']  \n",
              "226008  [A, Zoo, in, Germany, May, Have, to, Start, Fe...  \n",
              "111163  [rules:, What, need, to, do, -, advice, from, ...  \n",
              "92520   [Request, you, to, kindly, send, in, your, det...  \n",
              "...                                                   ...  \n",
              "32112   [Pnk, donates, homemade, soup, to, those, in, ...  \n",
              "200649             [They've, ben, spraying, u, for, year]  \n",
              "153292  [Dude, the, USA, is, going, to, hit, 1, millio...  \n",
              "231837                         [Banx, (Financial, Times)]  \n",
              "18431   [95., News:, SUCH, BS, JUST, LIKE, NEW, YORK, ...  \n",
              "\n",
              "[238570 rows x 5 columns]"
            ]
          },
          "execution_count": 261,
          "metadata": {},
          "output_type": "execute_result"
        }
      ],
      "source": [
        "from sklearn.model_selection import train_test_split\n",
        "X_train, X_test, y_train, y_test = train_test_split(df1,df1[\"Sentiment\"],test_size = 0.2, random_state =26105111)\n",
        "X_train"
      ]
    },
    {
      "cell_type": "code",
      "execution_count": 198,
      "metadata": {
        "colab": {
          "base_uri": "https://localhost:8080/"
        },
        "id": "Jyb033PMI6k6",
        "outputId": "163d1f3b-fd9a-4d38-a347-9079703d3fe3"
      },
      "outputs": [
        {
          "data": {
            "text/plain": [
              "['MultinomialNB.joblib']"
            ]
          },
          "execution_count": 198,
          "metadata": {},
          "output_type": "execute_result"
        }
      ],
      "source": [
        "from sklearn.naive_bayes import MultinomialNB\n",
        "clf = MultinomialNB()\n",
        "vectorized = count_vectorize.fit_transform(X_train[\"cleaned tweets\"])\n",
        "clf.fit(vectorized, y_train)\n",
        "# joblib.dump(clf, 'MultinomialNB.joblib')\n"
      ]
    },
    {
      "cell_type": "code",
      "execution_count": 197,
      "metadata": {
        "id": "3mNpb6E5JCRh"
      },
      "outputs": [
        {
          "data": {
            "text/html": [
              "<div>\n",
              "<style scoped>\n",
              "    .dataframe tbody tr th:only-of-type {\n",
              "        vertical-align: middle;\n",
              "    }\n",
              "\n",
              "    .dataframe tbody tr th {\n",
              "        vertical-align: top;\n",
              "    }\n",
              "\n",
              "    .dataframe thead th {\n",
              "        text-align: right;\n",
              "    }\n",
              "</style>\n",
              "<table border=\"1\" class=\"dataframe\">\n",
              "  <thead>\n",
              "    <tr style=\"text-align: right;\">\n",
              "      <th></th>\n",
              "      <th>cleaned tweets</th>\n",
              "      <th>Prediction</th>\n",
              "      <th>Actual</th>\n",
              "    </tr>\n",
              "  </thead>\n",
              "  <tbody>\n",
              "    <tr>\n",
              "      <th>172959</th>\n",
              "      <td>Okay, philosophers, what are you doing about _19?</td>\n",
              "      <td>Positive</td>\n",
              "      <td>Positive</td>\n",
              "    </tr>\n",
              "    <tr>\n",
              "      <th>246958</th>\n",
              "      <td>Do we know yet  what the future is for the Bre...</td>\n",
              "      <td>Positive</td>\n",
              "      <td>Positive</td>\n",
              "    </tr>\n",
              "    <tr>\n",
              "      <th>188879</th>\n",
              "      <td>Officers out on the Hoe today reporting severa...</td>\n",
              "      <td>Positive</td>\n",
              "      <td>Positive</td>\n",
              "    </tr>\n",
              "    <tr>\n",
              "      <th>132613</th>\n",
              "      <td>24  Hospitals in 21 Districts are operational ...</td>\n",
              "      <td>Neutral</td>\n",
              "      <td>Neutral</td>\n",
              "    </tr>\n",
              "    <tr>\n",
              "      <th>47766</th>\n",
              "      <td>_19 a biggest challenge that is destroying hum...</td>\n",
              "      <td>Negative</td>\n",
              "      <td>Negative</td>\n",
              "    </tr>\n",
              "    <tr>\n",
              "      <th>...</th>\n",
              "      <td>...</td>\n",
              "      <td>...</td>\n",
              "      <td>...</td>\n",
              "    </tr>\n",
              "    <tr>\n",
              "      <th>224126</th>\n",
              "      <td>Never expected graduation to become another un...</td>\n",
              "      <td>Neutral</td>\n",
              "      <td>Neutral</td>\n",
              "    </tr>\n",
              "    <tr>\n",
              "      <th>167943</th>\n",
              "      <td>The journey towards self-love is love itself  ...</td>\n",
              "      <td>Positive</td>\n",
              "      <td>Positive</td>\n",
              "    </tr>\n",
              "    <tr>\n",
              "      <th>223358</th>\n",
              "      <td>To live with people addicted to playing Pub-G,...</td>\n",
              "      <td>Positive</td>\n",
              "      <td>Negative</td>\n",
              "    </tr>\n",
              "    <tr>\n",
              "      <th>95049</th>\n",
              "      <td>Please join our President-  every Thursday as ...</td>\n",
              "      <td>Positive</td>\n",
              "      <td>Positive</td>\n",
              "    </tr>\n",
              "    <tr>\n",
              "      <th>226280</th>\n",
              "      <td>For those who want to open up the economy, it ...</td>\n",
              "      <td>Positive</td>\n",
              "      <td>Positive</td>\n",
              "    </tr>\n",
              "  </tbody>\n",
              "</table>\n",
              "<p>59643 rows × 3 columns</p>\n",
              "</div>"
            ],
            "text/plain": [
              "                                           cleaned tweets Prediction    Actual\n",
              "172959  Okay, philosophers, what are you doing about _19?   Positive  Positive\n",
              "246958  Do we know yet  what the future is for the Bre...   Positive  Positive\n",
              "188879  Officers out on the Hoe today reporting severa...   Positive  Positive\n",
              "132613  24  Hospitals in 21 Districts are operational ...    Neutral   Neutral\n",
              "47766   _19 a biggest challenge that is destroying hum...   Negative  Negative\n",
              "...                                                   ...        ...       ...\n",
              "224126  Never expected graduation to become another un...    Neutral   Neutral\n",
              "167943  The journey towards self-love is love itself  ...   Positive  Positive\n",
              "223358  To live with people addicted to playing Pub-G,...   Positive  Negative\n",
              "95049   Please join our President-  every Thursday as ...   Positive  Positive\n",
              "226280  For those who want to open up the economy, it ...   Positive  Positive\n",
              "\n",
              "[59643 rows x 3 columns]"
            ]
          },
          "execution_count": 197,
          "metadata": {},
          "output_type": "execute_result"
        }
      ],
      "source": [
        "vectorized = count_vectorize.transform(X_test[\"cleaned tweets\"])\n",
        "res=clf.predict(vectorized)\n",
        "cmp = pd.DataFrame(X_test[\"cleaned tweets\"])\n",
        "cmp['Prediction'] = res\n",
        "cmp['Actual'] = y_test\n",
        "cmp"
      ]
    },
    {
      "cell_type": "code",
      "execution_count": 147,
      "metadata": {
        "colab": {
          "base_uri": "https://localhost:8080/"
        },
        "id": "U_-JWKvpLgHh",
        "outputId": "d721353d-22a3-4407-eb77-55f964102b1c"
      },
      "outputs": [
        {
          "data": {
            "text/plain": [
              "0.7085827339335714"
            ]
          },
          "execution_count": 147,
          "metadata": {},
          "output_type": "execute_result"
        }
      ],
      "source": [
        "from sklearn import metrics\n",
        "metrics.accuracy_score(res, y_test)"
      ]
    },
    {
      "cell_type": "code",
      "execution_count": 148,
      "metadata": {
        "colab": {
          "base_uri": "https://localhost:8080/",
          "height": 285
        },
        "id": "tHfS70h-Nsct",
        "outputId": "cbf1f85d-4a9c-4c83-a71c-dc4cd922ad4e"
      },
      "outputs": [
        {
          "data": {
            "text/plain": [
              "Text(110.44999999999997, 0.5, 'predicted label')"
            ]
          },
          "execution_count": 148,
          "metadata": {},
          "output_type": "execute_result"
        },
        {
          "data": {
            "image/png": "[encoded data removed]",
            "text/plain": [
              "<Figure size 640x480 with 1 Axes>"
            ]
          },
          "metadata": {},
          "output_type": "display_data"
        }
      ],
      "source": [
        "from sklearn.metrics import confusion_matrix\n",
        "import matplotlib.pyplot as plt\n",
        "import seaborn as sns; sns.set()\n",
        "mat = confusion_matrix(y_test, res)\n",
        "sns.heatmap(mat.T, square=True, annot=True, fmt='d', cbar=False,\n",
        "            xticklabels=[\"pos\",\"neg\",\"neu\"], yticklabels=[\"pos\",\"neg\",\"neu\"])\n",
        "plt.xlabel('true label')\n",
        "plt.ylabel('predicted label')"
      ]
    },
    {
      "cell_type": "code",
      "execution_count": 199,
      "metadata": {
        "colab": {
          "base_uri": "https://localhost:8080/"
        },
        "id": "RTlCasjPOmJ6",
        "outputId": "fd9f488c-1346-4fed-a97e-3b5373f8d43a"
      },
      "outputs": [
        {
          "data": {
            "text/plain": [
              "['BernoulliNB.joblib']"
            ]
          },
          "execution_count": 199,
          "metadata": {},
          "output_type": "execute_result"
        }
      ],
      "source": [
        "from sklearn.naive_bayes import BernoulliNB\n",
        "clf = BernoulliNB()\n",
        "vectorized = count_vectorize.fit_transform(X_train[\"cleaned tweets\"])\n",
        "clf.fit(vectorized, y_train)\n",
        "# joblib.dump(clf, 'BernoulliNB.joblib')"
      ]
    },
    {
      "cell_type": "code",
      "execution_count": 150,
      "metadata": {
        "id": "ot2m1nODPWmH"
      },
      "outputs": [],
      "source": [
        "vectorized = count_vectorize.transform(X_test[\"cleaned tweets\"])\n",
        "res=clf.predict(vectorized)"
      ]
    },
    {
      "cell_type": "code",
      "execution_count": 151,
      "metadata": {
        "colab": {
          "base_uri": "https://localhost:8080/"
        },
        "id": "0lyzNAB1PXX_",
        "outputId": "a6d4fddb-487b-49eb-91dd-4ad0cdd0857f"
      },
      "outputs": [
        {
          "data": {
            "text/plain": [
              "array(['Neutral', 'Positive', 'Positive', ..., 'Positive', 'Positive',\n",
              "       'Negative'], dtype='<U8')"
            ]
          },
          "execution_count": 151,
          "metadata": {},
          "output_type": "execute_result"
        }
      ],
      "source": [
        "res"
      ]
    },
    {
      "cell_type": "code",
      "execution_count": 152,
      "metadata": {
        "colab": {
          "base_uri": "https://localhost:8080/",
          "height": 302
        },
        "id": "rrT_9AxDPYUD",
        "outputId": "858ef380-8b89-418b-cb59-4528c1ce486e"
      },
      "outputs": [
        {
          "data": {
            "text/plain": [
              "Text(110.44999999999997, 0.5, 'predicted label')"
            ]
          },
          "execution_count": 152,
          "metadata": {},
          "output_type": "execute_result"
        },
        {
          "data": {
            "image/png": "[encoded data removed]",
            "text/plain": [
              "<Figure size 640x480 with 1 Axes>"
            ]
          },
          "metadata": {},
          "output_type": "display_data"
        }
      ],
      "source": [
        "from sklearn.metrics import confusion_matrix\n",
        "import matplotlib.pyplot as plt\n",
        "import seaborn as sns; sns.set()\n",
        "mat = confusion_matrix(y_test, res)\n",
        "sns.heatmap(mat.T, square=True, annot=True, fmt='d', cbar=False,\n",
        "            xticklabels=[\"pos\",\"neg\",\"neu\"], yticklabels=[\"pos\",\"neg\",\"neu\"])\n",
        "plt.xlabel('true label')\n",
        "plt.ylabel('predicted label')"
      ]
    },
    {
      "cell_type": "code",
      "execution_count": 153,
      "metadata": {
        "colab": {
          "base_uri": "https://localhost:8080/"
        },
        "id": "m8jvkBqXPa7D",
        "outputId": "0d5e9d3c-14ed-4062-fe33-21bf2f989714"
      },
      "outputs": [
        {
          "data": {
            "text/plain": [
              "0.7134617641634391"
            ]
          },
          "execution_count": 153,
          "metadata": {},
          "output_type": "execute_result"
        }
      ],
      "source": [
        "from sklearn import metrics\n",
        "metrics.accuracy_score(res, y_test)"
      ]
    },
    {
      "cell_type": "code",
      "execution_count": 260,
      "metadata": {
        "colab": {
          "base_uri": "https://localhost:8080/"
        },
        "id": "BW266EeZPf4T",
        "outputId": "71132cc6-8cbc-4d53-a0a1-b9a3add0cca8"
      },
      "outputs": [
        {
          "name": "stderr",
          "output_type": "stream",
          "text": [
            "c:\\UserProgramFiles\\Python\\Lib\\site-packages\\sklearn\\linear_model\\_logistic.py:460: ConvergenceWarning: lbfgs failed to converge (status=1):\n",
            "STOP: TOTAL NO. of ITERATIONS REACHED LIMIT.\n",
            "\n",
            "Increase the number of iterations (max_iter) or scale the data as shown in:\n",
            "    https://scikit-learn.org/stable/modules/preprocessing.html\n",
            "Please also refer to the documentation for alternative solver options:\n",
            "    https://scikit-learn.org/stable/modules/linear_model.html#logistic-regression\n",
            "  n_iter_i = _check_optimize_result(\n"
          ]
        },
        {
          "data": {
            "text/html": [
              "<style>#sk-container-id-18 {color: black;}#sk-container-id-18 pre{padding: 0;}#sk-container-id-18 div.sk-toggleable {background-color: white;}#sk-container-id-18 label.sk-toggleable__label {cursor: pointer;display: block;width: 100%;margin-bottom: 0;padding: 0.3em;box-sizing: border-box;text-align: center;}#sk-container-id-18 label.sk-toggleable__label-arrow:before {content: \"▸\";float: left;margin-right: 0.25em;color: #696969;}#sk-container-id-18 label.sk-toggleable__label-arrow:hover:before {color: black;}#sk-container-id-18 div.sk-estimator:hover label.sk-toggleable__label-arrow:before {color: black;}#sk-container-id-18 div.sk-toggleable__content {max-height: 0;max-width: 0;overflow: hidden;text-align: left;background-color: #f0f8ff;}#sk-container-id-18 div.sk-toggleable__content pre {margin: 0.2em;color: black;border-radius: 0.25em;background-color: #f0f8ff;}#sk-container-id-18 input.sk-toggleable__control:checked~div.sk-toggleable__content {max-height: 200px;max-width: 100%;overflow: auto;}#sk-container-id-18 input.sk-toggleable__control:checked~label.sk-toggleable__label-arrow:before {content: \"▾\";}#sk-container-id-18 div.sk-estimator input.sk-toggleable__control:checked~label.sk-toggleable__label {background-color: #d4ebff;}#sk-container-id-18 div.sk-label input.sk-toggleable__control:checked~label.sk-toggleable__label {background-color: #d4ebff;}#sk-container-id-18 input.sk-hidden--visually {border: 0;clip: rect(1px 1px 1px 1px);clip: rect(1px, 1px, 1px, 1px);height: 1px;margin: -1px;overflow: hidden;padding: 0;position: absolute;width: 1px;}#sk-container-id-18 div.sk-estimator {font-family: monospace;background-color: #f0f8ff;border: 1px dotted black;border-radius: 0.25em;box-sizing: border-box;margin-bottom: 0.5em;}#sk-container-id-18 div.sk-estimator:hover {background-color: #d4ebff;}#sk-container-id-18 div.sk-parallel-item::after {content: \"\";width: 100%;border-bottom: 1px solid gray;flex-grow: 1;}#sk-container-id-18 div.sk-label:hover label.sk-toggleable__label {background-color: #d4ebff;}#sk-container-id-18 div.sk-serial::before {content: \"\";position: absolute;border-left: 1px solid gray;box-sizing: border-box;top: 0;bottom: 0;left: 50%;z-index: 0;}#sk-container-id-18 div.sk-serial {display: flex;flex-direction: column;align-items: center;background-color: white;padding-right: 0.2em;padding-left: 0.2em;position: relative;}#sk-container-id-18 div.sk-item {position: relative;z-index: 1;}#sk-container-id-18 div.sk-parallel {display: flex;align-items: stretch;justify-content: center;background-color: white;position: relative;}#sk-container-id-18 div.sk-item::before, #sk-container-id-18 div.sk-parallel-item::before {content: \"\";position: absolute;border-left: 1px solid gray;box-sizing: border-box;top: 0;bottom: 0;left: 50%;z-index: -1;}#sk-container-id-18 div.sk-parallel-item {display: flex;flex-direction: column;z-index: 1;position: relative;background-color: white;}#sk-container-id-18 div.sk-parallel-item:first-child::after {align-self: flex-end;width: 50%;}#sk-container-id-18 div.sk-parallel-item:last-child::after {align-self: flex-start;width: 50%;}#sk-container-id-18 div.sk-parallel-item:only-child::after {width: 0;}#sk-container-id-18 div.sk-dashed-wrapped {border: 1px dashed gray;margin: 0 0.4em 0.5em 0.4em;box-sizing: border-box;padding-bottom: 0.4em;background-color: white;}#sk-container-id-18 div.sk-label label {font-family: monospace;font-weight: bold;display: inline-block;line-height: 1.2em;}#sk-container-id-18 div.sk-label-container {text-align: center;}#sk-container-id-18 div.sk-container {/* jupyter's `normalize.less` sets `[hidden] { display: none; }` but bootstrap.min.css set `[hidden] { display: none !important; }` so we also need the `!important` here to be able to override the default hidden behavior on the sphinx rendered scikit-learn.org. See: https://github.com/scikit-learn/scikit-learn/issues/21755 */display: inline-block !important;position: relative;}#sk-container-id-18 div.sk-text-repr-fallback {display: none;}</style><div id=\"sk-container-id-18\" class=\"sk-top-container\"><div class=\"sk-text-repr-fallback\"><pre>LogisticRegression()</pre><b>In a Jupyter environment, please rerun this cell to show the HTML representation or trust the notebook. <br />On GitHub, the HTML representation is unable to render, please try loading this page with nbviewer.org.</b></div><div class=\"sk-container\" hidden><div class=\"sk-item\"><div class=\"sk-estimator sk-toggleable\"><input class=\"sk-toggleable__control sk-hidden--visually\" id=\"sk-estimator-id-18\" type=\"checkbox\" checked><label for=\"sk-estimator-id-18\" class=\"sk-toggleable__label sk-toggleable__label-arrow\">LogisticRegression</label><div class=\"sk-toggleable__content\"><pre>LogisticRegression()</pre></div></div></div></div></div>"
            ],
            "text/plain": [
              "LogisticRegression()"
            ]
          },
          "execution_count": 260,
          "metadata": {},
          "output_type": "execute_result"
        }
      ],
      "source": [
        "from sklearn.linear_model import LogisticRegression\n",
        "logisticRegr = LogisticRegression()\n",
        "vectorized = count_vectorize.fit_transform(X_train[\"cleaned tweets\"])\n",
        "logisticRegr.fit(vectorized, y_train)\n",
        "# joblib.dump(logisticRegr, 'LogisticRegression.joblib')"
      ]
    },
    {
      "cell_type": "code",
      "execution_count": null,
      "metadata": {
        "id": "Vx91BaYYQD6m"
      },
      "outputs": [],
      "source": [
        "vectorized = count_vectorize.transform(X_test[\"cleaned tweets\"])\n",
        "res=logisticRegr.predict(vectorized)\n",
        "res"
      ]
    },
    {
      "cell_type": "code",
      "execution_count": 157,
      "metadata": {
        "colab": {
          "base_uri": "https://localhost:8080/"
        },
        "id": "wTJEkpRlQKqE",
        "outputId": "90963125-c2ef-40c3-99bf-06aa6ae46b52"
      },
      "outputs": [
        {
          "data": {
            "text/plain": [
              "0.8951259996982043"
            ]
          },
          "execution_count": 157,
          "metadata": {},
          "output_type": "execute_result"
        }
      ],
      "source": [
        "metrics.accuracy_score(res, y_test)"
      ]
    },
    {
      "cell_type": "code",
      "execution_count": 158,
      "metadata": {
        "colab": {
          "base_uri": "https://localhost:8080/",
          "height": 302
        },
        "id": "S12nJArWQRT0",
        "outputId": "1c8c0904-3661-43d2-8f38-66e430840b2a"
      },
      "outputs": [
        {
          "data": {
            "text/plain": [
              "Text(110.44999999999997, 0.5, 'predicted label')"
            ]
          },
          "execution_count": 158,
          "metadata": {},
          "output_type": "execute_result"
        },
        {
          "data": {
            "image/png": "[encoded data removed]",
            "text/plain": [
              "<Figure size 640x480 with 1 Axes>"
            ]
          },
          "metadata": {},
          "output_type": "display_data"
        }
      ],
      "source": [
        "mat = confusion_matrix(y_test, res)\n",
        "sns.heatmap(mat.T, square=True, annot=True, fmt='d', cbar=False,\n",
        "            xticklabels=[\"pos\",\"neg\",\"neu\"], yticklabels=[\"pos\",\"neg\",\"neu\"])\n",
        "plt.xlabel('true label')\n",
        "plt.ylabel('predicted label')"
      ]
    },
    {
      "cell_type": "code",
      "execution_count": null,
      "metadata": {
        "colab": {
          "base_uri": "https://localhost:8080/"
        },
        "id": "3AilSfElQUlU",
        "outputId": "368f964a-130b-423d-c2dd-50f524bb0dac"
      },
      "outputs": [],
      "source": [
        "from sklearn.svm import LinearSVC\n",
        "clf=LinearSVC()\n",
        "vectorized = count_vectorize.fit_transform(X_train[\"cleaned tweets\"])\n",
        "clf.fit(vectorized, y_train)\n",
        "joblib.dump(clf, 'LinearSVC.joblib')"
      ]
    },
    {
      "cell_type": "code",
      "execution_count": null,
      "metadata": {
        "id": "fsNblz7dRKHI"
      },
      "outputs": [],
      "source": [
        "vectorized = count_vectorize.transform(X_test[\"cleaned tweets\"])\n",
        "res=clf.predict(vectorized)\n",
        "res"
      ]
    },
    {
      "cell_type": "code",
      "execution_count": 161,
      "metadata": {
        "colab": {
          "base_uri": "https://localhost:8080/"
        },
        "id": "vKyteu0cRdE5",
        "outputId": "e65757f1-9b3d-4620-f8be-69e3356e3e2f"
      },
      "outputs": [
        {
          "data": {
            "text/plain": [
              "0.9011116141039183"
            ]
          },
          "execution_count": 161,
          "metadata": {},
          "output_type": "execute_result"
        }
      ],
      "source": [
        "metrics.accuracy_score(res, y_test)"
      ]
    },
    {
      "cell_type": "code",
      "execution_count": 162,
      "metadata": {
        "colab": {
          "base_uri": "https://localhost:8080/",
          "height": 302
        },
        "id": "85Mg1p3jRgPE",
        "outputId": "8acbcb0f-00f3-4710-e7f9-619a82e3c762"
      },
      "outputs": [
        {
          "data": {
            "text/plain": [
              "Text(110.44999999999997, 0.5, 'predicted label')"
            ]
          },
          "execution_count": 162,
          "metadata": {},
          "output_type": "execute_result"
        },
        {
          "data": {
            "image/png": "[encoded data removed]",
            "text/plain": [
              "<Figure size 640x480 with 1 Axes>"
            ]
          },
          "metadata": {},
          "output_type": "display_data"
        }
      ],
      "source": [
        "mat = confusion_matrix(y_test, res)\n",
        "sns.heatmap(mat.T, square=True, annot=True, fmt='d', cbar=False,\n",
        "            xticklabels=[\"pos\",\"neg\",\"neu\"], yticklabels=[\"pos\",\"neg\",\"neu\"])\n",
        "plt.xlabel('true label')\n",
        "plt.ylabel('predicted label')"
      ]
    },
    {
      "cell_type": "code",
      "execution_count": 203,
      "metadata": {
        "colab": {
          "base_uri": "https://localhost:8080/"
        },
        "id": "SKgfAN75Rh89",
        "outputId": "b6d44ecd-8cc5-4c37-87ef-f0aff5863a49"
      },
      "outputs": [
        {
          "data": {
            "text/plain": [
              "['AdaBoostClassifier.joblib']"
            ]
          },
          "execution_count": 203,
          "metadata": {},
          "output_type": "execute_result"
        }
      ],
      "source": [
        "from sklearn.ensemble import AdaBoostClassifier\n",
        "clf = AdaBoostClassifier(n_estimators=100, random_state=0)\n",
        "vectorized = count_vectorize.fit_transform(X_train[\"cleaned tweets\"])\n",
        "clf.fit(vectorized, y_train)\n",
        "joblib.dump(clf, 'AdaBoostClassifier.joblib')"
      ]
    },
    {
      "cell_type": "code",
      "execution_count": 164,
      "metadata": {
        "id": "TtTjtljqR5NY"
      },
      "outputs": [],
      "source": [
        "vectorized = count_vectorize.transform(X_test[\"cleaned tweets\"])\n",
        "res=clf.predict(vectorized)"
      ]
    },
    {
      "cell_type": "code",
      "execution_count": 165,
      "metadata": {
        "colab": {
          "base_uri": "https://localhost:8080/"
        },
        "id": "zdxPnHodR9M4",
        "outputId": "f8d3eaa3-3434-432b-d67a-dd9e864df921"
      },
      "outputs": [
        {
          "data": {
            "text/plain": [
              "0.6926546283721476"
            ]
          },
          "execution_count": 165,
          "metadata": {},
          "output_type": "execute_result"
        }
      ],
      "source": [
        "metrics.accuracy_score(res, y_test)"
      ]
    },
    {
      "cell_type": "code",
      "execution_count": 166,
      "metadata": {
        "colab": {
          "base_uri": "https://localhost:8080/",
          "height": 302
        },
        "id": "0Wcf1OwzR_Ju",
        "outputId": "c58f88d0-7da6-4b63-904e-66bc1114fddd"
      },
      "outputs": [
        {
          "data": {
            "text/plain": [
              "Text(110.44999999999997, 0.5, 'predicted label')"
            ]
          },
          "execution_count": 166,
          "metadata": {},
          "output_type": "execute_result"
        },
        {
          "data": {
            "image/png": "[encoded data removed]",
            "text/plain": [
              "<Figure size 640x480 with 1 Axes>"
            ]
          },
          "metadata": {},
          "output_type": "display_data"
        }
      ],
      "source": [
        "mat = confusion_matrix(y_test, res)\n",
        "sns.heatmap(mat.T, square=True, annot=True, fmt='d', cbar=False,\n",
        "            xticklabels=[\"pos\",\"neg\",\"neu\"], yticklabels=[\"pos\",\"neg\",\"neu\"])\n",
        "plt.xlabel('true label')\n",
        "plt.ylabel('predicted label')"
      ]
    },
    {
      "cell_type": "code",
      "execution_count": 204,
      "metadata": {
        "colab": {
          "base_uri": "https://localhost:8080/"
        },
        "id": "eXDKVfwKSAti",
        "outputId": "38319bb5-37df-4b92-d8e6-8487ba1d59d1"
      },
      "outputs": [
        {
          "data": {
            "text/plain": [
              "['RidgeClassifier.joblib']"
            ]
          },
          "execution_count": 204,
          "metadata": {},
          "output_type": "execute_result"
        }
      ],
      "source": [
        "from sklearn.linear_model import RidgeClassifier\n",
        "clf = RidgeClassifier()\n",
        "vectorized = count_vectorize.fit_transform(X_train[\"cleaned tweets\"])\n",
        "clf.fit(vectorized, y_train)\n",
        "joblib.dump(clf, 'RidgeClassifier.joblib')"
      ]
    },
    {
      "cell_type": "code",
      "execution_count": 168,
      "metadata": {
        "id": "Uv6uW5GkSMHP"
      },
      "outputs": [],
      "source": [
        "vectorized = count_vectorize.transform(X_test[\"cleaned tweets\"])\n",
        "res=clf.predict(vectorized)\n"
      ]
    },
    {
      "cell_type": "code",
      "execution_count": 169,
      "metadata": {
        "colab": {
          "base_uri": "https://localhost:8080/"
        },
        "id": "kN47d2yLSOn1",
        "outputId": "6dd0c52e-209a-4524-9b55-3fab4ab924e8"
      },
      "outputs": [
        {
          "data": {
            "text/plain": [
              "0.8320507016749661"
            ]
          },
          "execution_count": 169,
          "metadata": {},
          "output_type": "execute_result"
        }
      ],
      "source": [
        "metrics.accuracy_score(res, y_test)"
      ]
    },
    {
      "cell_type": "code",
      "execution_count": 170,
      "metadata": {
        "colab": {
          "base_uri": "https://localhost:8080/",
          "height": 302
        },
        "id": "ZvZIi1vASPyg",
        "outputId": "7d0c5de2-e9c7-4d8b-c419-46e960adbe98"
      },
      "outputs": [
        {
          "data": {
            "text/plain": [
              "Text(110.44999999999997, 0.5, 'predicted label')"
            ]
          },
          "execution_count": 170,
          "metadata": {},
          "output_type": "execute_result"
        },
        {
          "data": {
            "image/png": "[encoded data removed]",
            "text/plain": [
              "<Figure size 640x480 with 1 Axes>"
            ]
          },
          "metadata": {},
          "output_type": "display_data"
        }
      ],
      "source": [
        "mat = confusion_matrix(y_test, res)\n",
        "sns.heatmap(mat.T, square=True, annot=True, fmt='d', cbar=False,\n",
        "            xticklabels=[\"pos\",\"neg\",\"neu\"], yticklabels=[\"pos\",\"neg\",\"neu\"])\n",
        "plt.xlabel('true label')\n",
        "plt.ylabel('predicted label')"
      ]
    },
    {
      "cell_type": "code",
      "execution_count": 205,
      "metadata": {
        "colab": {
          "base_uri": "https://localhost:8080/"
        },
        "id": "GZJ3EAsfSRMM",
        "outputId": "cf076fc3-7715-402e-e870-bbc92e34405f"
      },
      "outputs": [
        {
          "data": {
            "text/plain": [
              "['PassiveAggressiveClassifier.joblib']"
            ]
          },
          "execution_count": 205,
          "metadata": {},
          "output_type": "execute_result"
        }
      ],
      "source": [
        "from sklearn.linear_model import PassiveAggressiveClassifier\n",
        "clf = PassiveAggressiveClassifier(random_state=0)\n",
        "vectorized = count_vectorize.fit_transform(X_train[\"cleaned tweets\"])\n",
        "clf.fit(vectorized, y_train)\n",
        "joblib.dump(clf, 'PassiveAggressiveClassifier.joblib')"
      ]
    },
    {
      "cell_type": "code",
      "execution_count": 172,
      "metadata": {
        "id": "DoPTgjwPSpcD"
      },
      "outputs": [],
      "source": [
        "vectorized = count_vectorize.transform(X_test[\"cleaned tweets\"])\n",
        "res=clf.predict(vectorized)\n"
      ]
    },
    {
      "cell_type": "code",
      "execution_count": 173,
      "metadata": {
        "colab": {
          "base_uri": "https://localhost:8080/"
        },
        "id": "pSz-8V1rSrcw",
        "outputId": "8c57f015-7dd1-4e8c-ded3-015b404e5e6b"
      },
      "outputs": [
        {
          "data": {
            "text/plain": [
              "0.8682997166473853"
            ]
          },
          "execution_count": 173,
          "metadata": {},
          "output_type": "execute_result"
        }
      ],
      "source": [
        "metrics.accuracy_score(res, y_test)"
      ]
    },
    {
      "cell_type": "code",
      "execution_count": 174,
      "metadata": {
        "colab": {
          "base_uri": "https://localhost:8080/",
          "height": 302
        },
        "id": "fibKoyZaSsw4",
        "outputId": "81ba8866-fb89-4629-9b80-23b1bd21d6a2"
      },
      "outputs": [
        {
          "data": {
            "text/plain": [
              "Text(110.44999999999997, 0.5, 'predicted label')"
            ]
          },
          "execution_count": 174,
          "metadata": {},
          "output_type": "execute_result"
        },
        {
          "data": {
            "image/png": "[encoded data removed]",
            "text/plain": [
              "<Figure size 640x480 with 1 Axes>"
            ]
          },
          "metadata": {},
          "output_type": "display_data"
        }
      ],
      "source": [
        "mat = confusion_matrix(y_test, res)\n",
        "sns.heatmap(mat.T, square=True, annot=True, fmt='d', cbar=False,\n",
        "            xticklabels=[\"pos\",\"neg\",\"neu\"], yticklabels=[\"pos\",\"neg\",\"neu\"])\n",
        "plt.xlabel('true label')\n",
        "plt.ylabel('predicted label')"
      ]
    },
    {
      "cell_type": "code",
      "execution_count": 206,
      "metadata": {
        "colab": {
          "base_uri": "https://localhost:8080/"
        },
        "id": "b2Oqp32_S7yu",
        "outputId": "f17bb052-4345-4e92-e951-fcbfe0ed8a39"
      },
      "outputs": [
        {
          "data": {
            "text/plain": [
              "['Perceptron.joblib']"
            ]
          },
          "execution_count": 206,
          "metadata": {},
          "output_type": "execute_result"
        }
      ],
      "source": [
        "from sklearn.linear_model import Perceptron\n",
        "clf = Perceptron(random_state=0)\n",
        "vectorized = count_vectorize.fit_transform(X_train[\"cleaned tweets\"])\n",
        "clf.fit(vectorized, y_train)\n",
        "joblib.dump(clf, 'Perceptron.joblib')"
      ]
    },
    {
      "cell_type": "code",
      "execution_count": 176,
      "metadata": {
        "id": "LxtF0kjITH0-"
      },
      "outputs": [],
      "source": [
        "vectorized = count_vectorize.transform(X_test[\"cleaned tweets\"])\n",
        "res=clf.predict(vectorized)\n"
      ]
    },
    {
      "cell_type": "code",
      "execution_count": 177,
      "metadata": {
        "colab": {
          "base_uri": "https://localhost:8080/"
        },
        "id": "16e4dwV1TJDT",
        "outputId": "9d096ddf-6327-416e-e82d-db9a793e736e"
      },
      "outputs": [
        {
          "data": {
            "text/plain": [
              "0.8717368341632714"
            ]
          },
          "execution_count": 177,
          "metadata": {},
          "output_type": "execute_result"
        }
      ],
      "source": [
        "metrics.accuracy_score(res, y_test)"
      ]
    },
    {
      "cell_type": "code",
      "execution_count": 178,
      "metadata": {
        "colab": {
          "base_uri": "https://localhost:8080/",
          "height": 302
        },
        "id": "exgwYwdATKgg",
        "outputId": "e6b7ed3f-e871-4d63-f316-9e08609bdc44"
      },
      "outputs": [
        {
          "data": {
            "text/plain": [
              "Text(110.44999999999997, 0.5, 'predicted label')"
            ]
          },
          "execution_count": 178,
          "metadata": {},
          "output_type": "execute_result"
        },
        {
          "data": {
            "image/png": "[encoded data removed]",
            "text/plain": [
              "<Figure size 640x480 with 1 Axes>"
            ]
          },
          "metadata": {},
          "output_type": "display_data"
        }
      ],
      "source": [
        "mat = confusion_matrix(y_test, res)\n",
        "sns.heatmap(mat.T, square=True, annot=True, fmt='d', cbar=False,\n",
        "            xticklabels=[\"pos\",\"neg\",\"neu\"], yticklabels=[\"pos\",\"neg\",\"neu\"])\n",
        "plt.xlabel('true label')\n",
        "plt.ylabel('predicted label')"
      ]
    }
  ],
  "metadata": {
    "colab": {
      "collapsed_sections": [],
      "provenance": []
    },
    "kernelspec": {
      "display_name": "Python 3",
      "name": "python3"
    },
    "language_info": {
      "codemirror_mode": {
        "name": "ipython",
        "version": 3
      },
      "file_extension": ".py",
      "mimetype": "text/x-python",
      "name": "python",
      "nbconvert_exporter": "python",
      "pygments_lexer": "ipython3",
      "version": "3.11.4"
    }
  },
  "nbformat": 4,
  "nbformat_minor": 0
}
